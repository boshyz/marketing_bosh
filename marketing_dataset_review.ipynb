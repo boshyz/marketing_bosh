{
 "cells": [
  {
   "cell_type": "markdown",
   "id": "da2488ac",
   "metadata": {},
   "source": [
    "# Marketing Data set: Expoloratory Data Analysis Part 1: User Web Analytics\n"
   ]
  },
  {
   "cell_type": "markdown",
   "id": "140c2a5b",
   "metadata": {},
   "source": [
    "* Dummy marketing dataset from tableau maketing dashboard link: https://app.datacamp.com/learn/courses/marketing-analytics-in-tableau\n",
    "\n",
    "* This book here will focus on exploring the web analytics dataset\n",
    "\n",
    "\n",
    "* As a basic sense check it  will include:\n",
    "    * Max date\n",
    "    * Min date \n",
    "    * Date granularity\n",
    "    * Metrics \n",
    "    * Dimensions & commentary to purpose or info to extract\n",
    "    * General feasibility of the data set\n",
    "\n",
    "    "
   ]
  },
  {
   "cell_type": "code",
   "execution_count": 1,
   "id": "b9819978",
   "metadata": {},
   "outputs": [],
   "source": [
    "#Read in packages\n",
    "import pandas as pd\n",
    "import numpy as np \n",
    "from matplotlib import pyplot as plt\n",
    "import seaborn as sns\n",
    "import statsmodels.stats as st\n",
    "import pingouin as pg\n",
    "from dotenv import load_dotenv\n",
    "import os\n",
    "import sqlalchemy as sa\n",
    "import psycopg2 as p2\n",
    "import missingno as msno"
   ]
  },
  {
   "cell_type": "code",
   "execution_count": 2,
   "id": "ebb4ec96",
   "metadata": {},
   "outputs": [],
   "source": [
    "# function to stage database ready to receive cleaned data\n",
    "def create_engine(db_name):\n",
    "    \"\"\"create engine for database set as global variable engine and global variable this year\"\"\"\n",
    "    global engine\n",
    "    POSTGRES_URI = os.getenv('bosh_db')\n",
    "    password = POSTGRES_URI+db_name\n",
    "    # return engine for sqlclchemy\n",
    "    engine = sa.create_engine(password)\n",
    "    return engine\n",
    "    "
   ]
  },
  {
   "cell_type": "code",
   "execution_count": 3,
   "id": "9cea7546",
   "metadata": {},
   "outputs": [],
   "source": [
    "#create engine marketing_bosh dash\n",
    "engine = create_engine('bosh_marketing')"
   ]
  },
  {
   "cell_type": "code",
   "execution_count": 4,
   "id": "5ade66d0",
   "metadata": {},
   "outputs": [],
   "source": [
    "#read in files from directory 'User_Data.xlsx', 'PaidSocial_Data.xlsx', 'PaidSearch_Data.xlsx', 'Page_Data.xlsx':\n",
    "#data provided from datacamp course https://app.datacamp.com/learn/courses/marketing-analytics-in-tableau\n",
    "users_raw = pd.read_excel('User_Data.xlsx')\n",
    "pdsocial_raw = pd.read_excel('PaidSocial_Data.xlsx')\n",
    "pdsearch_raw = pd.read_excel('PaidSearch_Data.xlsx')\n",
    "pages_raw = pd.read_excel('Page_Data.xlsx')"
   ]
  },
  {
   "cell_type": "markdown",
   "id": "1925af8b",
   "metadata": {},
   "source": [
    "### Marketing ecosystem reporting general break down\n",
    "\n",
    "##### Marketing metrics usually come a variety of sources. The below section will breifly outline what they are, & how or when they are integrated into a global business intelligence source of truth i.e. a Data Visulisation Platform\n",
    "\n",
    "* As a general rule, marketing data is the messiest data there is, because unlike product data that appears as rendered key value pairs entered by developers, the frquency of campaign deployments makes them subject to poor data integrity because all dimension data must be manually configured. \n",
    "* To track cross platforms careful considersation needs to be paid to naming convenion of campaign heirachies and tracking parameters to ensure that matches between different source platforms can be made\n",
    "* You won't know what metrics to include without talking to marketing team first. \n",
    "* The marketing/media team will instruct you on how to break out the taxonomy entered into the campaign heirachies in order to create the reporting segments they want. \n",
    "* Marketing campaigns should be based on business objectives and describe the audience and intended call to action that the campaign is designed to aquire. \n",
    "* Digial campaigns are often based off a busineses's website architecure (url path sections) as it forms the basis of how the customer interacts with the business, if it its not tagged it can't be segmented.\n",
    "* Rule of thumb general business communication to it's customers can be made by segmenting analytics to the url path 3 or path 4 depending on the site content detail, as segments will not be worth persuing unless they are sufficent in volume,url paths 3 and 4 are inclusive of the individual page paths. The site path captures the interest of the user/customer whilst the action/event will signal their intent on that topic\n",
    "* You can't, or really you SHOULD NOT guess & make inferences about marketing data, or site analytics data in general, just by looking at the account structure, talk to your media team to understand why campaigns were set up in certain way and your web developer team to understand how the taggin was configured. You will not be able to make sense of anything without a data dictionary- especially for web anayltics if you youself do not have access to the tag configuration, you won't understand what the metrics actually mean, they are customized to capture different events.\n",
    "\n",
    "\n",
    "#### AdServers (Must have source of Truth)\n",
    "\n",
    "* Marketing metrics from ad servers, are segmented by two types:\n",
    "    * Cost Metrics - related to budget of campaign bought on CPC or CPM model usually\n",
    "        * Cost\n",
    "        * Impressions\n",
    "        * Cllicks\n",
    "        * Reach\n",
    "    * Conversion metrics - usually pixels embeded on site that signal and capture a specific desired action, determined by conversion filtered to a conversion tag name\n",
    "\n",
    "* For businesses, generally only cost metrics from Ads platforms (Cost & Impressions always, sometimes clicks) are considered a source of truth for a business. \n",
    "* Whilst Ads platform conversion metrics are generally not considered a source of truth for the business they are imperative for media teams to have in their campaign monitoring dashboards because in platform conversions are the only metric that media teams can optimize towards. Business source of truth metrics from salesforce/web anayltics only serve as a campaign objective, but in platform metrics are required as marker for campaign optimisiation.\n",
    "* Cost, impressions, clicks are mutally exclusive and can be added up, but Reach is a distinct count of user id and will change depending on how you segment. Since the actual ids are not given to you just the count of the them, you don't know how to de dupe across days, or placments/creatives \n",
    "\n",
    "#### DSPs  (Must have source of Truth if running)\n",
    "\n",
    "* Most common DSP is DV360 \n",
    "* Marketing metrics from DSPs, are segmented by two types:\n",
    "    * Cost Metrics - related to budget of campaign bought on CPC or CPM model usually\n",
    "        * Cost\n",
    "        * Impressions\n",
    "        * Cllicks\n",
    "    * Conversion metrics - usually pixels embeded on site that signal and capture a specific desired action, determined by conversion filtered to a conversion tag name\n",
    "    * Appears auto tagged in in Google anayltics as source dbm\n",
    "    * Different campain structure\n",
    "        * DV360 IO = CM Camapaign \n",
    "        * DV360 line item - houses targeting stratgey sits below campaign but above placement IO : Line Item = 1:Many - Thus unfortunately \n",
    "        * DV360 creative = CM mediabuy Line Item: DV360 Creative = Many: Many\n",
    "        * DV360 does not house the actual creatives \n",
    "       \n",
    "\n",
    "##### Campaign manager <br/>\n",
    "\n",
    "\n",
    "* For large companies and agencies, ads served in other platforms will also be trafficked in Google CM - the most commonly used Ads Managers\n",
    "* Trafficking entails that the same campaign structure that exsits in an external ads platform such as Facebook, or Tiktok is also created in Campaign Manager in such a way that the data model would be \n",
    "    * Social Sources\n",
    "        * Social Campaign -> CM Campaign\n",
    "        * Social Adset/Placment -> Mediabuy Name\n",
    "        * Creative -> Creative\n",
    "        * Creatives are housed in Native Social platform\n",
    "    * Search Sources\n",
    "        * Adwords campaigns usually have to manaully trafficked\n",
    "        * However as a rule of thumb, businesses that can afford CM can afford SA360 - that you can sync and manage Adwords/Google Ads in, so you can just enable the 360 auto tracking feature in CM \n",
    "            * SA360 appears in CM under the campaign name DART SEARCH, SA360 Accounts get moved down to media buy, you have to manually traffic in search campaign under creative, sometimes for convenience people just apply a percentage mulitplitive from account to campaigns if campaigns are not trafficked but that is just an estimtor as the actual granualrity does not exist. \n",
    "            * No creatives housed\n",
    "    * Direct buys with publishers \n",
    "        * CM houses actual physical creatives under creative heiarchy \n",
    "\n",
    "\n",
    "* The purpose of CM is to create a campaign audit and reconcile what was booked with what was delivered from the publisher's platform (Ad plaform, DFP and or DSPs) to ensure accuracy\n",
    "    * Ad ops team will create CM click & impressions trackers (floodlights) in DCM and give them to Ad ops team to place in platform usually seen as 1x1 trackers.\n",
    "    * The impressions and click trackers allow CM to break down conversions by post impression and post click. Total conversions sums the two, but depending on the business, you post click and post impression broken out. \n",
    "    * The advantage of CM it accounts for impression tracking (conversions made from serving (seeing) the ad but not clicking on the link) which web analytics cannot account for.\n",
    "    * Although click through conversions are generally accepted as showing gretaer intent, post impression conversions can be useful to understand campaigns who's purpose is to generate awareness by targeting page lands\n",
    "    * Conversions have recongised look back windows to when to stop attributing to conversion the campaign, default is generally 90 days but you can always custom configure\n",
    "\n",
    "\n",
    "\n",
    "##### Web & App Analytics  <br/>\n",
    "\n",
    "* Depending on the business type analyics can be used to track different things, Ad Manager trackers, Ad platform trackers e.g. facebook pixel need to be given to the Web developer to implement on the website/app to make sure things site conversions are tracked\n",
    "* It is almost always the source of truth for visits, and marketing leads (sign ups)\n",
    "* If the site is ecommerce it can also be the source of truth for revenue\n",
    "* Depending on the business it is also of often the primary generator of click stream data, though some businesses like to process their data for click stream data in mixpanel or amplitude etc\n",
    "* Campaign activity is tracked by appending the relevent utm parameters and campaign heiarchy values to the landing page url of ads\n",
    "    * CM & SA360 and Google Ads are all auto tageed in Google Anlaytics as DFA, Dart \n",
    "\n",
    "* Analytics data is based on sessions - usually 30 min window from openinning to no activity, or till the application is closed\n",
    "* Session data feeds up into cookie ID which is unique tracker, usually based of device ID, that acts a proxy for a user, also expires in 90 days\n",
    "* User id is the registered id generated for user who has signed up to your business, usually idenfited by a email or phone number depending on how they signed up, a user can have multp \n",
    "* Reports are pulled with last click attribution, so dimension attriubted to a metric will be whatever last product/segment/feature they interacted with, so the time segment of reports is important, depending on the type of activity... e.g. for streaming platforms it might better to have hourly data, because users are likely to browse more than 1 show (video plays) during a session, same for ecom depending on complexity. Pulling by day will show you the last touch page for the customer that day for a specfic action/interaction. \n",
    "\n",
    "#### Salesforce Core/CRMs/Marketo  <br/>\n",
    "\n",
    "* Depending on the business type, business that are generally B2B, utilize salesforce or marketo to create marketing campaign segments (develop personas and marketing messaging) from customer profiles based of demographics, customer life time value recognised reveneue, and sometimes other campaigns/product features they engaged with\n",
    "* Commmon salesforce core (sales and or service cloud) metrics include:\n",
    "    * opportunies\n",
    "    * leads\n",
    "    * engagement\n",
    "    * sales\n",
    "    * revenue\n",
    "    * call\n",
    "* Metrics are broken out by business units for large enough businesses and individual sales agents, the campaign (whatever pitch they are pitching) and the contact details and interactions logs of leads and aquired accounts\n",
    "* Similar to ads platform data, everything has to be manually entered by a sales agent, and attributed to the right campaign so it's important naming conventions are considered here to map it to back to the marketing leads \n",
    "* What metrics you track depends on the campaign objetive that was breifed in, the tpye of business and where you sit in sales funnel \n",
    "\n",
    "\n",
    "\n",
    " \n",
    "\n",
    "\n"
   ]
  },
  {
   "cell_type": "markdown",
   "id": "12c33abd",
   "metadata": {},
   "source": [
    "#### Basic Ads Platfor data\n",
    "\n",
    "* A quick glance at the ads data shows that it has landing page, which generally comes from social under the dimension page url\n",
    "* None of these look to be oringal source data but a made up data model, because they lack campaign heirarchy dimensions and their respective keys\n"
   ]
  },
  {
   "cell_type": "code",
   "execution_count": 5,
   "id": "dd1e20ab",
   "metadata": {},
   "outputs": [
    {
     "data": {
      "text/html": [
       "<div>\n",
       "<style scoped>\n",
       "    .dataframe tbody tr th:only-of-type {\n",
       "        vertical-align: middle;\n",
       "    }\n",
       "\n",
       "    .dataframe tbody tr th {\n",
       "        vertical-align: top;\n",
       "    }\n",
       "\n",
       "    .dataframe thead th {\n",
       "        text-align: right;\n",
       "    }\n",
       "</style>\n",
       "<table border=\"1\" class=\"dataframe\">\n",
       "  <thead>\n",
       "    <tr style=\"text-align: right;\">\n",
       "      <th></th>\n",
       "      <th>Ad Group</th>\n",
       "      <th>Demographic</th>\n",
       "      <th>Platform</th>\n",
       "      <th>Served</th>\n",
       "      <th>Landing Page</th>\n",
       "      <th>Creative</th>\n",
       "      <th>Spend</th>\n",
       "      <th>Date</th>\n",
       "      <th>Impressions</th>\n",
       "      <th>Clicks</th>\n",
       "      <th>Visits</th>\n",
       "      <th>Engaged Visits</th>\n",
       "      <th>Purchases</th>\n",
       "      <th>Account Follows</th>\n",
       "      <th>New Customers</th>\n",
       "    </tr>\n",
       "  </thead>\n",
       "  <tbody>\n",
       "    <tr>\n",
       "      <th>0</th>\n",
       "      <td>Shop - Desktop</td>\n",
       "      <td>Female, 18 - 30, Follows Fashion</td>\n",
       "      <td>Facebook</td>\n",
       "      <td>In Stories</td>\n",
       "      <td>Category Page: Necklaces</td>\n",
       "      <td>Necklace Stack on Influencer</td>\n",
       "      <td>523</td>\n",
       "      <td>2022-09-01</td>\n",
       "      <td>840.000000</td>\n",
       "      <td>42</td>\n",
       "      <td>42</td>\n",
       "      <td>40</td>\n",
       "      <td>0</td>\n",
       "      <td>33</td>\n",
       "      <td>0</td>\n",
       "    </tr>\n",
       "    <tr>\n",
       "      <th>1</th>\n",
       "      <td>Shop - Desktop</td>\n",
       "      <td>Female, 18 - 30, Follows Fashion</td>\n",
       "      <td>Facebook</td>\n",
       "      <td>In Stories</td>\n",
       "      <td>Category Page: Rings</td>\n",
       "      <td>Ring Stack on Influencer</td>\n",
       "      <td>593</td>\n",
       "      <td>2022-12-14</td>\n",
       "      <td>800.000000</td>\n",
       "      <td>48</td>\n",
       "      <td>48</td>\n",
       "      <td>46</td>\n",
       "      <td>3</td>\n",
       "      <td>36</td>\n",
       "      <td>3</td>\n",
       "    </tr>\n",
       "    <tr>\n",
       "      <th>2</th>\n",
       "      <td>Shop - Mobile</td>\n",
       "      <td>Female, 18 - 30, Follows Fashion</td>\n",
       "      <td>Instagram</td>\n",
       "      <td>In Feed</td>\n",
       "      <td>Category Page: Rings</td>\n",
       "      <td>Ring Stack on Influencer</td>\n",
       "      <td>518</td>\n",
       "      <td>2022-12-21</td>\n",
       "      <td>375.000000</td>\n",
       "      <td>45</td>\n",
       "      <td>44</td>\n",
       "      <td>42</td>\n",
       "      <td>3</td>\n",
       "      <td>38</td>\n",
       "      <td>3</td>\n",
       "    </tr>\n",
       "    <tr>\n",
       "      <th>3</th>\n",
       "      <td>Shop - Mobile</td>\n",
       "      <td>Female, 18 - 30, Follows Fashion</td>\n",
       "      <td>Instagram</td>\n",
       "      <td>In Feed</td>\n",
       "      <td>Category Page: Earrings</td>\n",
       "      <td>Up Close: Earring Collage on Model</td>\n",
       "      <td>510</td>\n",
       "      <td>2022-10-14</td>\n",
       "      <td>336.363636</td>\n",
       "      <td>37</td>\n",
       "      <td>37</td>\n",
       "      <td>29</td>\n",
       "      <td>1</td>\n",
       "      <td>8</td>\n",
       "      <td>1</td>\n",
       "    </tr>\n",
       "    <tr>\n",
       "      <th>4</th>\n",
       "      <td>Shop - Mobile</td>\n",
       "      <td>Female, 18 - 30, Follows Fashion</td>\n",
       "      <td>Instagram</td>\n",
       "      <td>In Feed</td>\n",
       "      <td>Category Page: Earrings</td>\n",
       "      <td>Up Close: Earring Collage on Model</td>\n",
       "      <td>514</td>\n",
       "      <td>2022-11-27</td>\n",
       "      <td>411.111111</td>\n",
       "      <td>37</td>\n",
       "      <td>37</td>\n",
       "      <td>29</td>\n",
       "      <td>4</td>\n",
       "      <td>8</td>\n",
       "      <td>4</td>\n",
       "    </tr>\n",
       "  </tbody>\n",
       "</table>\n",
       "</div>"
      ],
      "text/plain": [
       "         Ad Group                       Demographic   Platform      Served  \\\n",
       "0  Shop - Desktop  Female, 18 - 30, Follows Fashion   Facebook  In Stories   \n",
       "1  Shop - Desktop  Female, 18 - 30, Follows Fashion   Facebook  In Stories   \n",
       "2   Shop - Mobile  Female, 18 - 30, Follows Fashion  Instagram     In Feed   \n",
       "3   Shop - Mobile  Female, 18 - 30, Follows Fashion  Instagram     In Feed   \n",
       "4   Shop - Mobile  Female, 18 - 30, Follows Fashion  Instagram     In Feed   \n",
       "\n",
       "               Landing Page                            Creative  Spend  \\\n",
       "0  Category Page: Necklaces        Necklace Stack on Influencer    523   \n",
       "1      Category Page: Rings            Ring Stack on Influencer    593   \n",
       "2      Category Page: Rings            Ring Stack on Influencer    518   \n",
       "3   Category Page: Earrings  Up Close: Earring Collage on Model    510   \n",
       "4   Category Page: Earrings  Up Close: Earring Collage on Model    514   \n",
       "\n",
       "        Date  Impressions  Clicks  Visits  Engaged Visits  Purchases  \\\n",
       "0 2022-09-01   840.000000      42      42              40          0   \n",
       "1 2022-12-14   800.000000      48      48              46          3   \n",
       "2 2022-12-21   375.000000      45      44              42          3   \n",
       "3 2022-10-14   336.363636      37      37              29          1   \n",
       "4 2022-11-27   411.111111      37      37              29          4   \n",
       "\n",
       "   Account Follows  New Customers  \n",
       "0               33              0  \n",
       "1               36              3  \n",
       "2               38              3  \n",
       "3                8              1  \n",
       "4                8              4  "
      ]
     },
     "execution_count": 5,
     "metadata": {},
     "output_type": "execute_result"
    }
   ],
   "source": [
    "# preview social\n",
    "pdsocial_raw.head()"
   ]
  },
  {
   "cell_type": "code",
   "execution_count": 6,
   "id": "cc82c367",
   "metadata": {},
   "outputs": [
    {
     "data": {
      "text/plain": [
       "Landing Page\n",
       "Category Page: Earrings     43\n",
       "Homepage                    39\n",
       "Category Page: Rings        34\n",
       "Category Page: Bracelets    34\n",
       "Category Page: Necklaces    28\n",
       "Name: count, dtype: int64"
      ]
     },
     "execution_count": 6,
     "metadata": {},
     "output_type": "execute_result"
    }
   ],
   "source": [
    "#social landing page to link with users data\n",
    "pdsocial_raw[\"Landing Page\"].value_counts()"
   ]
  },
  {
   "cell_type": "code",
   "execution_count": 7,
   "id": "569e2905",
   "metadata": {},
   "outputs": [
    {
     "data": {
      "text/html": [
       "<div>\n",
       "<style scoped>\n",
       "    .dataframe tbody tr th:only-of-type {\n",
       "        vertical-align: middle;\n",
       "    }\n",
       "\n",
       "    .dataframe tbody tr th {\n",
       "        vertical-align: top;\n",
       "    }\n",
       "\n",
       "    .dataframe thead th {\n",
       "        text-align: right;\n",
       "    }\n",
       "</style>\n",
       "<table border=\"1\" class=\"dataframe\">\n",
       "  <thead>\n",
       "    <tr style=\"text-align: right;\">\n",
       "      <th></th>\n",
       "      <th>Ad Group</th>\n",
       "      <th>Landing Page</th>\n",
       "      <th>Ad Copy</th>\n",
       "      <th>Spend</th>\n",
       "      <th>Date</th>\n",
       "      <th>Impressions</th>\n",
       "      <th>Impression Share</th>\n",
       "      <th>Clicks</th>\n",
       "      <th>Visits</th>\n",
       "      <th>Engaged Visits</th>\n",
       "      <th>Purchases</th>\n",
       "      <th>New Customers</th>\n",
       "    </tr>\n",
       "  </thead>\n",
       "  <tbody>\n",
       "    <tr>\n",
       "      <th>0</th>\n",
       "      <td>Phrase - Mobile - Trendy Affordable Jewelry</td>\n",
       "      <td>Homepage</td>\n",
       "      <td>JewelryCo: Get the Hottest Jewelry Trends This...</td>\n",
       "      <td>555</td>\n",
       "      <td>2022-07-01</td>\n",
       "      <td>740</td>\n",
       "      <td>0.13</td>\n",
       "      <td>37</td>\n",
       "      <td>37</td>\n",
       "      <td>0</td>\n",
       "      <td>0</td>\n",
       "      <td>0</td>\n",
       "    </tr>\n",
       "    <tr>\n",
       "      <th>1</th>\n",
       "      <td>Exact - Desktop - Small Diamond Stud Earrings</td>\n",
       "      <td>Category Page: Earrings</td>\n",
       "      <td>Itty Bitty diamond studs? Say no more</td>\n",
       "      <td>540</td>\n",
       "      <td>2022-07-02</td>\n",
       "      <td>900</td>\n",
       "      <td>0.19</td>\n",
       "      <td>36</td>\n",
       "      <td>33</td>\n",
       "      <td>5</td>\n",
       "      <td>3</td>\n",
       "      <td>3</td>\n",
       "    </tr>\n",
       "    <tr>\n",
       "      <th>2</th>\n",
       "      <td>Phrase - Desktop - Thin Rings</td>\n",
       "      <td>Category Page: Rings</td>\n",
       "      <td>Emphemeral Ring Vibes - New Each Week</td>\n",
       "      <td>574</td>\n",
       "      <td>2022-07-03</td>\n",
       "      <td>984</td>\n",
       "      <td>0.16</td>\n",
       "      <td>41</td>\n",
       "      <td>38</td>\n",
       "      <td>1</td>\n",
       "      <td>1</td>\n",
       "      <td>1</td>\n",
       "    </tr>\n",
       "    <tr>\n",
       "      <th>3</th>\n",
       "      <td>Phrase - Mobile - Cheap Cute Jewelry</td>\n",
       "      <td>Homepage</td>\n",
       "      <td>JewelryCo: Get the Hottest Jewelry Trends This...</td>\n",
       "      <td>480</td>\n",
       "      <td>2022-07-04</td>\n",
       "      <td>416</td>\n",
       "      <td>0.23</td>\n",
       "      <td>32</td>\n",
       "      <td>32</td>\n",
       "      <td>3</td>\n",
       "      <td>2</td>\n",
       "      <td>2</td>\n",
       "    </tr>\n",
       "    <tr>\n",
       "      <th>4</th>\n",
       "      <td>Phrase - Desktop - Affordable Beaded Bracelets</td>\n",
       "      <td>Category Page: Bracelets</td>\n",
       "      <td>Summer Arm Candy Need an Update? Check our our...</td>\n",
       "      <td>585</td>\n",
       "      <td>2022-07-05</td>\n",
       "      <td>702</td>\n",
       "      <td>0.19</td>\n",
       "      <td>39</td>\n",
       "      <td>35</td>\n",
       "      <td>1</td>\n",
       "      <td>1</td>\n",
       "      <td>1</td>\n",
       "    </tr>\n",
       "  </tbody>\n",
       "</table>\n",
       "</div>"
      ],
      "text/plain": [
       "                                         Ad Group              Landing Page  \\\n",
       "0     Phrase - Mobile - Trendy Affordable Jewelry                  Homepage   \n",
       "1   Exact - Desktop - Small Diamond Stud Earrings   Category Page: Earrings   \n",
       "2                   Phrase - Desktop - Thin Rings      Category Page: Rings   \n",
       "3            Phrase - Mobile - Cheap Cute Jewelry                  Homepage   \n",
       "4  Phrase - Desktop - Affordable Beaded Bracelets  Category Page: Bracelets   \n",
       "\n",
       "                                             Ad Copy  Spend       Date  \\\n",
       "0  JewelryCo: Get the Hottest Jewelry Trends This...    555 2022-07-01   \n",
       "1              Itty Bitty diamond studs? Say no more    540 2022-07-02   \n",
       "2              Emphemeral Ring Vibes - New Each Week    574 2022-07-03   \n",
       "3  JewelryCo: Get the Hottest Jewelry Trends This...    480 2022-07-04   \n",
       "4  Summer Arm Candy Need an Update? Check our our...    585 2022-07-05   \n",
       "\n",
       "   Impressions  Impression Share  Clicks  Visits  Engaged Visits  Purchases  \\\n",
       "0          740              0.13      37      37               0          0   \n",
       "1          900              0.19      36      33               5          3   \n",
       "2          984              0.16      41      38               1          1   \n",
       "3          416              0.23      32      32               3          2   \n",
       "4          702              0.19      39      35               1          1   \n",
       "\n",
       "   New Customers  \n",
       "0              0  \n",
       "1              3  \n",
       "2              1  \n",
       "3              2  \n",
       "4              1  "
      ]
     },
     "execution_count": 7,
     "metadata": {},
     "output_type": "execute_result"
    }
   ],
   "source": [
    "# preview search\n",
    "pdsearch_raw.head()"
   ]
  },
  {
   "cell_type": "code",
   "execution_count": 8,
   "id": "3c449065",
   "metadata": {},
   "outputs": [
    {
     "data": {
      "text/plain": [
       "Landing Page\n",
       "Category Page: Rings        48\n",
       "Category Page: Necklaces    38\n",
       "Homepage                    31\n",
       "Category Page: Bracelets    31\n",
       "Category Page: Earrings     30\n",
       "Name: count, dtype: int64"
      ]
     },
     "execution_count": 8,
     "metadata": {},
     "output_type": "execute_result"
    }
   ],
   "source": [
    "# understanding seaarch landing page\n",
    "pdsearch_raw[\"Landing Page\"].value_counts()"
   ]
  },
  {
   "cell_type": "code",
   "execution_count": 9,
   "id": "fbcaccb8",
   "metadata": {},
   "outputs": [
    {
     "name": "stdout",
     "output_type": "stream",
     "text": [
      "<class 'pandas.core.frame.DataFrame'>\n",
      "RangeIndex: 33013 entries, 0 to 33012\n",
      "Data columns (total 9 columns):\n",
      " #   Column             Non-Null Count  Dtype         \n",
      "---  ------             --------------  -----         \n",
      " 0   Cookie ID          33013 non-null  int64         \n",
      " 1   Session ID         33013 non-null  int64         \n",
      " 2   User ID            14106 non-null  float64       \n",
      " 3   Geography          14106 non-null  object        \n",
      " 4   Email              33013 non-null  object        \n",
      " 5   Session Date       33013 non-null  datetime64[ns]\n",
      " 6   Channel            33013 non-null  object        \n",
      " 7   Landing Page Type  33013 non-null  object        \n",
      " 8   Final Page Type    33013 non-null  object        \n",
      "dtypes: datetime64[ns](1), float64(1), int64(2), object(5)\n",
      "memory usage: 2.3+ MB\n"
     ]
    }
   ],
   "source": [
    "users_raw.info()"
   ]
  },
  {
   "cell_type": "code",
   "execution_count": 10,
   "id": "527ad7db",
   "metadata": {},
   "outputs": [
    {
     "data": {
      "text/html": [
       "<div>\n",
       "<style scoped>\n",
       "    .dataframe tbody tr th:only-of-type {\n",
       "        vertical-align: middle;\n",
       "    }\n",
       "\n",
       "    .dataframe tbody tr th {\n",
       "        vertical-align: top;\n",
       "    }\n",
       "\n",
       "    .dataframe thead th {\n",
       "        text-align: right;\n",
       "    }\n",
       "</style>\n",
       "<table border=\"1\" class=\"dataframe\">\n",
       "  <thead>\n",
       "    <tr style=\"text-align: right;\">\n",
       "      <th></th>\n",
       "      <th>Cookie ID</th>\n",
       "      <th>Session ID</th>\n",
       "      <th>User ID</th>\n",
       "      <th>Geography</th>\n",
       "      <th>Email</th>\n",
       "      <th>Session Date</th>\n",
       "      <th>Channel</th>\n",
       "      <th>Landing Page Type</th>\n",
       "      <th>Final Page Type</th>\n",
       "    </tr>\n",
       "  </thead>\n",
       "  <tbody>\n",
       "    <tr>\n",
       "      <th>0</th>\n",
       "      <td>11115663</td>\n",
       "      <td>939901008</td>\n",
       "      <td>4.967845e+09</td>\n",
       "      <td>Europe</td>\n",
       "      <td>35248@gmail.com</td>\n",
       "      <td>2022-10-18</td>\n",
       "      <td>Organic</td>\n",
       "      <td>Homepage</td>\n",
       "      <td>Category Page</td>\n",
       "    </tr>\n",
       "    <tr>\n",
       "      <th>1</th>\n",
       "      <td>11119899</td>\n",
       "      <td>575263040</td>\n",
       "      <td>8.313226e+09</td>\n",
       "      <td>North America</td>\n",
       "      <td>74328@gmail.com</td>\n",
       "      <td>2022-11-19</td>\n",
       "      <td>Organic</td>\n",
       "      <td>Category Page</td>\n",
       "      <td>Cart</td>\n",
       "    </tr>\n",
       "    <tr>\n",
       "      <th>2</th>\n",
       "      <td>11120993</td>\n",
       "      <td>148001144</td>\n",
       "      <td>5.084898e+09</td>\n",
       "      <td>North America</td>\n",
       "      <td>13890@gmail.com</td>\n",
       "      <td>2022-10-29</td>\n",
       "      <td>Organic</td>\n",
       "      <td>Category Page</td>\n",
       "      <td>Category Page</td>\n",
       "    </tr>\n",
       "    <tr>\n",
       "      <th>3</th>\n",
       "      <td>11155419</td>\n",
       "      <td>306657377</td>\n",
       "      <td>NaN</td>\n",
       "      <td>NaN</td>\n",
       "      <td></td>\n",
       "      <td>2022-11-18</td>\n",
       "      <td>Paid Social</td>\n",
       "      <td>Homepage</td>\n",
       "      <td>Category Page</td>\n",
       "    </tr>\n",
       "    <tr>\n",
       "      <th>4</th>\n",
       "      <td>11162830</td>\n",
       "      <td>825717398</td>\n",
       "      <td>NaN</td>\n",
       "      <td>NaN</td>\n",
       "      <td></td>\n",
       "      <td>2022-10-26</td>\n",
       "      <td>Paid Social</td>\n",
       "      <td>Homepage</td>\n",
       "      <td>Product Page</td>\n",
       "    </tr>\n",
       "  </tbody>\n",
       "</table>\n",
       "</div>"
      ],
      "text/plain": [
       "   Cookie ID  Session ID       User ID      Geography            Email  \\\n",
       "0   11115663   939901008  4.967845e+09         Europe  35248@gmail.com   \n",
       "1   11119899   575263040  8.313226e+09  North America  74328@gmail.com   \n",
       "2   11120993   148001144  5.084898e+09  North America  13890@gmail.com   \n",
       "3   11155419   306657377           NaN            NaN                    \n",
       "4   11162830   825717398           NaN            NaN                    \n",
       "\n",
       "  Session Date      Channel Landing Page Type Final Page Type  \n",
       "0   2022-10-18      Organic          Homepage   Category Page  \n",
       "1   2022-11-19      Organic     Category Page            Cart  \n",
       "2   2022-10-29      Organic     Category Page   Category Page  \n",
       "3   2022-11-18  Paid Social          Homepage   Category Page  \n",
       "4   2022-10-26  Paid Social          Homepage    Product Page  "
      ]
     },
     "execution_count": 10,
     "metadata": {},
     "output_type": "execute_result"
    }
   ],
   "source": [
    "users_raw.head()"
   ]
  },
  {
   "cell_type": "markdown",
   "id": "477d5a8c",
   "metadata": {},
   "source": []
  },
  {
   "cell_type": "markdown",
   "id": "97964f4e",
   "metadata": {},
   "source": [
    "### Users data set\n",
    "\n",
    "* The users has a total of 33,012 rows\n",
    "\n",
    "* User ID and Geography have the same number of rows 14,106 and make up less then 50% of the data set\n",
    "\n",
    "*• It is interesting that Geography is not autofilled by IP address, thus inferring that it is extrpolated from the user manually inputting their addresses\n",
    "\n",
    "* Email although at first glance has no missing fields by looking at the df info, the missing fields do not appear as NA but are blank spaces, and look to match missing user ID and geography\n",
    "\n",
    "* The data is not time stamped but has a date, and provides both the landing page & the final page of a unique session on a particular date\n",
    "\n",
    "* We want to clean the make the missing User ID, Geography, and email values = Visitor \n",
    "\n",
    "### makerting to web analytics merge \n",
    "\n",
    "* Web Analytics data is usually joined to marketing data based on campaign info, at different granularities\n",
    "\n",
    "* utm_source = ads platform name e.g. Meta Ads\n",
    "\n",
    "* utm_medium is a free text field, which auto pouplates adwords data with cpc, since adwords is predominately search. You could instead explore using manually entering this accross channels so that it displays the tactic e.g. for adwords you have utm_medium differenitate between shopping, brand, generic, RLSA, youtube ect, vs Feeds or stories in social, but this would be harder since these are usually in the adset level in social but medium sits about campaign. \n",
    "\n",
    "* utm_campaign is the campaign_name for google analytics, it auto tags utm_campaigns from adwords as search campaign, however this more reflective of the targeting level of detail in NON search ad platforms ie. mediabuys/placements/adset\n",
    "\n",
    "* utm_content is a free text field. you can use to popluate NON search campaign mediabuy/placement/adset names so you can get the tartegting e.g. audience demographics, look-a-like, geo, interests etc, \n",
    "\n",
    "* google ads does not not auto tagg utm_content, so you use it to describe the ad copy shown such that it matches the general creative description of your non search campaigns, usually useed to describe how ad appears in search. Since Non search campaigns are primarily visual based pictures, you can use the utm_campaign name of non seach campagins to describe the campaign, or alternatively it can be a field in the meidabuy/placement/adset name taxnomy. \n",
    "\n",
    "* The dummy web dataset we have does not have utm campagin, thus it can only be joined to the dummy marketing data by date, channel and landing page. Thus the lowest level of granularity is the landing page for a channel per day\n",
    "\n",
    " "
   ]
  },
  {
   "cell_type": "code",
   "execution_count": 11,
   "id": "f856d2ee",
   "metadata": {},
   "outputs": [],
   "source": [
    "def unique_vals(df, cols):\n",
    "    \"\"\"for columns in df print how many unique values in cols\"\"\"\n",
    "    for i in cols:\n",
    "        n = df[i].nunique()\n",
    "        print(f'{i} has {n} unique values')"
   ]
  },
  {
   "cell_type": "code",
   "execution_count": 12,
   "id": "75af1d25",
   "metadata": {},
   "outputs": [
    {
     "name": "stdout",
     "output_type": "stream",
     "text": [
      "Cookie ID has 18086 unique values\n",
      "Session ID has 33013 unique values\n",
      "User ID has 7588 unique values\n",
      "Channel has 4 unique values\n",
      "Landing Page Type has 2 unique values\n",
      "Final Page Type has 5 unique values\n"
     ]
    }
   ],
   "source": [
    "# number of unique values in users_raw df\n",
    "unique_vals(users_raw, [\"Cookie ID\", \"Session ID\", \"User ID\", 'Channel', \"Landing Page Type\", \"Final Page Type\"])"
   ]
  },
  {
   "cell_type": "code",
   "execution_count": 13,
   "id": "1fc860e4",
   "metadata": {},
   "outputs": [],
   "source": [
    "def clean_col_names(df):\n",
    "    \"\"\"renames all cols in df to be lower and no spaces\"\"\"\n",
    "    df.columns = [i.lower().replace(' ', \"_\") for i in df.columns]\n",
    "    return df"
   ]
  },
  {
   "cell_type": "code",
   "execution_count": 14,
   "id": "f9132a78",
   "metadata": {},
   "outputs": [],
   "source": [
    "# clean the column names to be all lower case with underscores in place of spacing for easier input into the database\n",
    "users_raw2 = clean_col_names(users_raw)"
   ]
  },
  {
   "cell_type": "code",
   "execution_count": 15,
   "id": "fed28cc2",
   "metadata": {},
   "outputs": [],
   "source": [
    "# pandas has changed where you can't have NA values for cols anymore so we will need to seperate\n",
    "# by \n",
    "users_raw_reg1 = users_raw2[users_raw2.user_id.isna() == False]\n",
    "users_raw_unreg1 = users_raw2[users_raw2.user_id.isna() == True]"
   ]
  },
  {
   "cell_type": "code",
   "execution_count": 16,
   "id": "2ec7485d",
   "metadata": {},
   "outputs": [
    {
     "name": "stdout",
     "output_type": "stream",
     "text": [
      "<class 'pandas.core.frame.DataFrame'>\n",
      "Index: 18907 entries, 3 to 33012\n",
      "Data columns (total 9 columns):\n",
      " #   Column             Non-Null Count  Dtype         \n",
      "---  ------             --------------  -----         \n",
      " 0   cookie_id          18907 non-null  int64         \n",
      " 1   session_id         18907 non-null  int64         \n",
      " 2   user_id            0 non-null      float64       \n",
      " 3   geography          0 non-null      object        \n",
      " 4   email              18907 non-null  object        \n",
      " 5   session_date       18907 non-null  datetime64[ns]\n",
      " 6   channel            18907 non-null  object        \n",
      " 7   landing_page_type  18907 non-null  object        \n",
      " 8   final_page_type    18907 non-null  object        \n",
      "dtypes: datetime64[ns](1), float64(1), int64(2), object(5)\n",
      "memory usage: 1.4+ MB\n"
     ]
    }
   ],
   "source": [
    "# sense check unregistered users df\n",
    "users_raw_unreg1.info()"
   ]
  },
  {
   "cell_type": "code",
   "execution_count": 17,
   "id": "6aa15f93",
   "metadata": {},
   "outputs": [
    {
     "name": "stderr",
     "output_type": "stream",
     "text": [
      "/var/folders/jr/slp1kljj397ffkxtw33xbkz40000gn/T/ipykernel_87396/3073643481.py:2: FutureWarning: Setting an item of incompatible dtype is deprecated and will raise in a future error of pandas. Value 'Visitor' has dtype incompatible with float64, please explicitly cast to a compatible dtype first.\n",
      "  users_raw_unreg1.loc[:,'user_id'] = 'Visitor'\n"
     ]
    }
   ],
   "source": [
    "# update the user_id, geography & email cols to say Visitor\n",
    "users_raw_unreg1.loc[:,'user_id'] = 'Visitor'\n",
    "users_raw_unreg1.loc[:,'geography'] = 'Visitor'\n",
    "users_raw_unreg1.loc[:,'email'] = 'Visitor'\n"
   ]
  },
  {
   "cell_type": "code",
   "execution_count": 18,
   "id": "3c9fd842",
   "metadata": {},
   "outputs": [
    {
     "data": {
      "text/html": [
       "<div>\n",
       "<style scoped>\n",
       "    .dataframe tbody tr th:only-of-type {\n",
       "        vertical-align: middle;\n",
       "    }\n",
       "\n",
       "    .dataframe tbody tr th {\n",
       "        vertical-align: top;\n",
       "    }\n",
       "\n",
       "    .dataframe thead th {\n",
       "        text-align: right;\n",
       "    }\n",
       "</style>\n",
       "<table border=\"1\" class=\"dataframe\">\n",
       "  <thead>\n",
       "    <tr style=\"text-align: right;\">\n",
       "      <th></th>\n",
       "      <th>cookie_id</th>\n",
       "      <th>session_id</th>\n",
       "      <th>user_id</th>\n",
       "      <th>geography</th>\n",
       "      <th>email</th>\n",
       "      <th>session_date</th>\n",
       "      <th>channel</th>\n",
       "      <th>landing_page_type</th>\n",
       "      <th>final_page_type</th>\n",
       "    </tr>\n",
       "  </thead>\n",
       "  <tbody>\n",
       "    <tr>\n",
       "      <th>3</th>\n",
       "      <td>11155419</td>\n",
       "      <td>306657377</td>\n",
       "      <td>Visitor</td>\n",
       "      <td>Visitor</td>\n",
       "      <td>Visitor</td>\n",
       "      <td>2022-11-18</td>\n",
       "      <td>Paid Social</td>\n",
       "      <td>Homepage</td>\n",
       "      <td>Category Page</td>\n",
       "    </tr>\n",
       "    <tr>\n",
       "      <th>4</th>\n",
       "      <td>11162830</td>\n",
       "      <td>825717398</td>\n",
       "      <td>Visitor</td>\n",
       "      <td>Visitor</td>\n",
       "      <td>Visitor</td>\n",
       "      <td>2022-10-26</td>\n",
       "      <td>Paid Social</td>\n",
       "      <td>Homepage</td>\n",
       "      <td>Product Page</td>\n",
       "    </tr>\n",
       "    <tr>\n",
       "      <th>5</th>\n",
       "      <td>11233735</td>\n",
       "      <td>994753903</td>\n",
       "      <td>Visitor</td>\n",
       "      <td>Visitor</td>\n",
       "      <td>Visitor</td>\n",
       "      <td>2022-11-16</td>\n",
       "      <td>Paid Social</td>\n",
       "      <td>Homepage</td>\n",
       "      <td>Homepage</td>\n",
       "    </tr>\n",
       "    <tr>\n",
       "      <th>6</th>\n",
       "      <td>11250039</td>\n",
       "      <td>339981224</td>\n",
       "      <td>Visitor</td>\n",
       "      <td>Visitor</td>\n",
       "      <td>Visitor</td>\n",
       "      <td>2022-11-15</td>\n",
       "      <td>Paid Social</td>\n",
       "      <td>Category Page</td>\n",
       "      <td>Category Page</td>\n",
       "    </tr>\n",
       "    <tr>\n",
       "      <th>7</th>\n",
       "      <td>11254637</td>\n",
       "      <td>794926467</td>\n",
       "      <td>Visitor</td>\n",
       "      <td>Visitor</td>\n",
       "      <td>Visitor</td>\n",
       "      <td>2022-09-19</td>\n",
       "      <td>Paid Social</td>\n",
       "      <td>Homepage</td>\n",
       "      <td>Product Page</td>\n",
       "    </tr>\n",
       "  </tbody>\n",
       "</table>\n",
       "</div>"
      ],
      "text/plain": [
       "   cookie_id  session_id  user_id geography    email session_date  \\\n",
       "3   11155419   306657377  Visitor   Visitor  Visitor   2022-11-18   \n",
       "4   11162830   825717398  Visitor   Visitor  Visitor   2022-10-26   \n",
       "5   11233735   994753903  Visitor   Visitor  Visitor   2022-11-16   \n",
       "6   11250039   339981224  Visitor   Visitor  Visitor   2022-11-15   \n",
       "7   11254637   794926467  Visitor   Visitor  Visitor   2022-09-19   \n",
       "\n",
       "       channel landing_page_type final_page_type  \n",
       "3  Paid Social          Homepage   Category Page  \n",
       "4  Paid Social          Homepage    Product Page  \n",
       "5  Paid Social          Homepage        Homepage  \n",
       "6  Paid Social     Category Page   Category Page  \n",
       "7  Paid Social          Homepage    Product Page  "
      ]
     },
     "execution_count": 18,
     "metadata": {},
     "output_type": "execute_result"
    }
   ],
   "source": [
    "# preview changes\n",
    "users_raw_unreg1.head()"
   ]
  },
  {
   "cell_type": "code",
   "execution_count": 19,
   "id": "a6e237f6",
   "metadata": {},
   "outputs": [],
   "source": [
    "# we want to also change the ids to strs\n",
    "\n",
    "def change_df_col_dtype(df, cols, type):\n",
    "    \"\"\"\"takes a df, list of cols that need to be convereted to one data type and returns df of those cols converted to that one data type\"\"\"\n",
    "    new_types = dict(zip(cols, [type for i in range(len(cols))]))\n",
    "    df = df.astype(new_types)\n",
    "    return df"
   ]
  },
  {
   "cell_type": "code",
   "execution_count": 52,
   "id": "b1e8b7af",
   "metadata": {},
   "outputs": [],
   "source": [
    "# make int first then make str\n",
    "users_raw_unreg = change_df_col_dtype(users_raw_unreg1,['user_id', 'cookie_id', 'session_id'],str)\n"
   ]
  },
  {
   "cell_type": "code",
   "execution_count": 21,
   "id": "54d590ca",
   "metadata": {},
   "outputs": [
    {
     "name": "stdout",
     "output_type": "stream",
     "text": [
      "<class 'pandas.core.frame.DataFrame'>\n",
      "Index: 18907 entries, 3 to 33012\n",
      "Data columns (total 9 columns):\n",
      " #   Column             Non-Null Count  Dtype         \n",
      "---  ------             --------------  -----         \n",
      " 0   cookie_id          18907 non-null  object        \n",
      " 1   session_id         18907 non-null  object        \n",
      " 2   user_id            18907 non-null  object        \n",
      " 3   geography          18907 non-null  object        \n",
      " 4   email              18907 non-null  object        \n",
      " 5   session_date       18907 non-null  datetime64[ns]\n",
      " 6   channel            18907 non-null  object        \n",
      " 7   landing_page_type  18907 non-null  object        \n",
      " 8   final_page_type    18907 non-null  object        \n",
      "dtypes: datetime64[ns](1), object(8)\n",
      "memory usage: 1.4+ MB\n"
     ]
    }
   ],
   "source": [
    "# check changes to unregiestered to make sure all column data types are correct\n",
    "users_raw_unreg.info()"
   ]
  },
  {
   "cell_type": "code",
   "execution_count": 22,
   "id": "379f7801",
   "metadata": {},
   "outputs": [
    {
     "data": {
      "text/html": [
       "<div>\n",
       "<style scoped>\n",
       "    .dataframe tbody tr th:only-of-type {\n",
       "        vertical-align: middle;\n",
       "    }\n",
       "\n",
       "    .dataframe tbody tr th {\n",
       "        vertical-align: top;\n",
       "    }\n",
       "\n",
       "    .dataframe thead th {\n",
       "        text-align: right;\n",
       "    }\n",
       "</style>\n",
       "<table border=\"1\" class=\"dataframe\">\n",
       "  <thead>\n",
       "    <tr style=\"text-align: right;\">\n",
       "      <th></th>\n",
       "      <th>cookie_id</th>\n",
       "      <th>session_id</th>\n",
       "      <th>user_id</th>\n",
       "      <th>geography</th>\n",
       "      <th>email</th>\n",
       "      <th>session_date</th>\n",
       "      <th>channel</th>\n",
       "      <th>landing_page_type</th>\n",
       "      <th>final_page_type</th>\n",
       "    </tr>\n",
       "  </thead>\n",
       "  <tbody>\n",
       "    <tr>\n",
       "      <th>3</th>\n",
       "      <td>11155419</td>\n",
       "      <td>306657377</td>\n",
       "      <td>Visitor</td>\n",
       "      <td>Visitor</td>\n",
       "      <td>Visitor</td>\n",
       "      <td>2022-11-18</td>\n",
       "      <td>Paid Social</td>\n",
       "      <td>Homepage</td>\n",
       "      <td>Category Page</td>\n",
       "    </tr>\n",
       "    <tr>\n",
       "      <th>4</th>\n",
       "      <td>11162830</td>\n",
       "      <td>825717398</td>\n",
       "      <td>Visitor</td>\n",
       "      <td>Visitor</td>\n",
       "      <td>Visitor</td>\n",
       "      <td>2022-10-26</td>\n",
       "      <td>Paid Social</td>\n",
       "      <td>Homepage</td>\n",
       "      <td>Product Page</td>\n",
       "    </tr>\n",
       "    <tr>\n",
       "      <th>5</th>\n",
       "      <td>11233735</td>\n",
       "      <td>994753903</td>\n",
       "      <td>Visitor</td>\n",
       "      <td>Visitor</td>\n",
       "      <td>Visitor</td>\n",
       "      <td>2022-11-16</td>\n",
       "      <td>Paid Social</td>\n",
       "      <td>Homepage</td>\n",
       "      <td>Homepage</td>\n",
       "    </tr>\n",
       "    <tr>\n",
       "      <th>6</th>\n",
       "      <td>11250039</td>\n",
       "      <td>339981224</td>\n",
       "      <td>Visitor</td>\n",
       "      <td>Visitor</td>\n",
       "      <td>Visitor</td>\n",
       "      <td>2022-11-15</td>\n",
       "      <td>Paid Social</td>\n",
       "      <td>Category Page</td>\n",
       "      <td>Category Page</td>\n",
       "    </tr>\n",
       "    <tr>\n",
       "      <th>7</th>\n",
       "      <td>11254637</td>\n",
       "      <td>794926467</td>\n",
       "      <td>Visitor</td>\n",
       "      <td>Visitor</td>\n",
       "      <td>Visitor</td>\n",
       "      <td>2022-09-19</td>\n",
       "      <td>Paid Social</td>\n",
       "      <td>Homepage</td>\n",
       "      <td>Product Page</td>\n",
       "    </tr>\n",
       "  </tbody>\n",
       "</table>\n",
       "</div>"
      ],
      "text/plain": [
       "  cookie_id session_id  user_id geography    email session_date      channel  \\\n",
       "3  11155419  306657377  Visitor   Visitor  Visitor   2022-11-18  Paid Social   \n",
       "4  11162830  825717398  Visitor   Visitor  Visitor   2022-10-26  Paid Social   \n",
       "5  11233735  994753903  Visitor   Visitor  Visitor   2022-11-16  Paid Social   \n",
       "6  11250039  339981224  Visitor   Visitor  Visitor   2022-11-15  Paid Social   \n",
       "7  11254637  794926467  Visitor   Visitor  Visitor   2022-09-19  Paid Social   \n",
       "\n",
       "  landing_page_type final_page_type  \n",
       "3          Homepage   Category Page  \n",
       "4          Homepage    Product Page  \n",
       "5          Homepage        Homepage  \n",
       "6     Category Page   Category Page  \n",
       "7          Homepage    Product Page  "
      ]
     },
     "execution_count": 22,
     "metadata": {},
     "output_type": "execute_result"
    }
   ],
   "source": [
    "users_raw_unreg.head()"
   ]
  },
  {
   "cell_type": "code",
   "execution_count": 23,
   "id": "b5e17f7d",
   "metadata": {},
   "outputs": [
    {
     "name": "stdout",
     "output_type": "stream",
     "text": [
      "<class 'pandas.core.frame.DataFrame'>\n",
      "Index: 14106 entries, 0 to 32981\n",
      "Data columns (total 9 columns):\n",
      " #   Column             Non-Null Count  Dtype         \n",
      "---  ------             --------------  -----         \n",
      " 0   cookie_id          14106 non-null  int64         \n",
      " 1   session_id         14106 non-null  int64         \n",
      " 2   user_id            14106 non-null  float64       \n",
      " 3   geography          14106 non-null  object        \n",
      " 4   email              14106 non-null  object        \n",
      " 5   session_date       14106 non-null  datetime64[ns]\n",
      " 6   channel            14106 non-null  object        \n",
      " 7   landing_page_type  14106 non-null  object        \n",
      " 8   final_page_type    14106 non-null  object        \n",
      "dtypes: datetime64[ns](1), float64(1), int64(2), object(5)\n",
      "memory usage: 1.1+ MB\n"
     ]
    }
   ],
   "source": [
    "users_raw_reg1.info()"
   ]
  },
  {
   "cell_type": "code",
   "execution_count": 54,
   "id": "6b959e2c",
   "metadata": {},
   "outputs": [],
   "source": [
    "# change the reg users cols to int bc user_id was float first\n",
    "users_raw_reg2 = change_df_col_dtype(users_raw_reg1,['user_id', 'cookie_id', 'session_id'],int)\n",
    "# change the reg users cols to str\n",
    "users_raw_reg = change_df_col_dtype(users_raw_reg2,['user_id', 'cookie_id', 'session_id'],str)"
   ]
  },
  {
   "cell_type": "code",
   "execution_count": 55,
   "id": "c12ae282",
   "metadata": {},
   "outputs": [
    {
     "name": "stdout",
     "output_type": "stream",
     "text": [
      "<class 'pandas.core.frame.DataFrame'>\n",
      "Index: 14106 entries, 0 to 32981\n",
      "Data columns (total 9 columns):\n",
      " #   Column             Non-Null Count  Dtype         \n",
      "---  ------             --------------  -----         \n",
      " 0   cookie_id          14106 non-null  object        \n",
      " 1   session_id         14106 non-null  object        \n",
      " 2   user_id            14106 non-null  object        \n",
      " 3   geography          14106 non-null  object        \n",
      " 4   email              14106 non-null  object        \n",
      " 5   session_date       14106 non-null  datetime64[ns]\n",
      " 6   channel            14106 non-null  object        \n",
      " 7   landing_page_type  14106 non-null  object        \n",
      " 8   final_page_type    14106 non-null  object        \n",
      "dtypes: datetime64[ns](1), object(8)\n",
      "memory usage: 1.1+ MB\n"
     ]
    }
   ],
   "source": [
    "#sense check data has been inputted correctly\n",
    "users_raw_reg.info()"
   ]
  },
  {
   "cell_type": "code",
   "execution_count": 56,
   "id": "649dcb9d",
   "metadata": {},
   "outputs": [
    {
     "data": {
      "text/html": [
       "<div>\n",
       "<style scoped>\n",
       "    .dataframe tbody tr th:only-of-type {\n",
       "        vertical-align: middle;\n",
       "    }\n",
       "\n",
       "    .dataframe tbody tr th {\n",
       "        vertical-align: top;\n",
       "    }\n",
       "\n",
       "    .dataframe thead th {\n",
       "        text-align: right;\n",
       "    }\n",
       "</style>\n",
       "<table border=\"1\" class=\"dataframe\">\n",
       "  <thead>\n",
       "    <tr style=\"text-align: right;\">\n",
       "      <th></th>\n",
       "      <th>cookie_id</th>\n",
       "      <th>session_id</th>\n",
       "      <th>user_id</th>\n",
       "      <th>geography</th>\n",
       "      <th>email</th>\n",
       "      <th>session_date</th>\n",
       "      <th>channel</th>\n",
       "      <th>landing_page_type</th>\n",
       "      <th>final_page_type</th>\n",
       "    </tr>\n",
       "  </thead>\n",
       "  <tbody>\n",
       "    <tr>\n",
       "      <th>0</th>\n",
       "      <td>11115663</td>\n",
       "      <td>939901008</td>\n",
       "      <td>4967844706</td>\n",
       "      <td>Europe</td>\n",
       "      <td>35248@gmail.com</td>\n",
       "      <td>2022-10-18</td>\n",
       "      <td>Organic</td>\n",
       "      <td>Homepage</td>\n",
       "      <td>Category Page</td>\n",
       "    </tr>\n",
       "    <tr>\n",
       "      <th>1</th>\n",
       "      <td>11119899</td>\n",
       "      <td>575263040</td>\n",
       "      <td>8313226354</td>\n",
       "      <td>North America</td>\n",
       "      <td>74328@gmail.com</td>\n",
       "      <td>2022-11-19</td>\n",
       "      <td>Organic</td>\n",
       "      <td>Category Page</td>\n",
       "      <td>Cart</td>\n",
       "    </tr>\n",
       "    <tr>\n",
       "      <th>2</th>\n",
       "      <td>11120993</td>\n",
       "      <td>148001144</td>\n",
       "      <td>5084897627</td>\n",
       "      <td>North America</td>\n",
       "      <td>13890@gmail.com</td>\n",
       "      <td>2022-10-29</td>\n",
       "      <td>Organic</td>\n",
       "      <td>Category Page</td>\n",
       "      <td>Category Page</td>\n",
       "    </tr>\n",
       "    <tr>\n",
       "      <th>13</th>\n",
       "      <td>11151294</td>\n",
       "      <td>182504424</td>\n",
       "      <td>8118651420</td>\n",
       "      <td>North America</td>\n",
       "      <td>81004@yahoo.com</td>\n",
       "      <td>2022-08-09</td>\n",
       "      <td>Paid Search</td>\n",
       "      <td>Category Page</td>\n",
       "      <td>Category Page</td>\n",
       "    </tr>\n",
       "    <tr>\n",
       "      <th>16</th>\n",
       "      <td>11155684</td>\n",
       "      <td>956966094</td>\n",
       "      <td>4376444590</td>\n",
       "      <td>North America</td>\n",
       "      <td>11818@gmail.com</td>\n",
       "      <td>2022-11-22</td>\n",
       "      <td>Paid Social</td>\n",
       "      <td>Homepage</td>\n",
       "      <td>Category Page</td>\n",
       "    </tr>\n",
       "  </tbody>\n",
       "</table>\n",
       "</div>"
      ],
      "text/plain": [
       "   cookie_id session_id     user_id      geography            email  \\\n",
       "0   11115663  939901008  4967844706         Europe  35248@gmail.com   \n",
       "1   11119899  575263040  8313226354  North America  74328@gmail.com   \n",
       "2   11120993  148001144  5084897627  North America  13890@gmail.com   \n",
       "13  11151294  182504424  8118651420  North America  81004@yahoo.com   \n",
       "16  11155684  956966094  4376444590  North America  11818@gmail.com   \n",
       "\n",
       "   session_date      channel landing_page_type final_page_type  \n",
       "0    2022-10-18      Organic          Homepage   Category Page  \n",
       "1    2022-11-19      Organic     Category Page            Cart  \n",
       "2    2022-10-29      Organic     Category Page   Category Page  \n",
       "13   2022-08-09  Paid Search     Category Page   Category Page  \n",
       "16   2022-11-22  Paid Social          Homepage   Category Page  "
      ]
     },
     "execution_count": 56,
     "metadata": {},
     "output_type": "execute_result"
    }
   ],
   "source": [
    "users_raw_reg.head()"
   ]
  },
  {
   "cell_type": "code",
   "execution_count": 57,
   "id": "de798566",
   "metadata": {},
   "outputs": [
    {
     "name": "stdout",
     "output_type": "stream",
     "text": [
      "<class 'pandas.core.frame.DataFrame'>\n",
      "Index: 33013 entries, 3 to 32981\n",
      "Data columns (total 9 columns):\n",
      " #   Column             Non-Null Count  Dtype         \n",
      "---  ------             --------------  -----         \n",
      " 0   cookie_id          33013 non-null  object        \n",
      " 1   session_id         33013 non-null  object        \n",
      " 2   user_id            33013 non-null  object        \n",
      " 3   geography          33013 non-null  object        \n",
      " 4   email              33013 non-null  object        \n",
      " 5   session_date       33013 non-null  datetime64[ns]\n",
      " 6   channel            33013 non-null  object        \n",
      " 7   landing_page_type  33013 non-null  object        \n",
      " 8   final_page_type    33013 non-null  object        \n",
      "dtypes: datetime64[ns](1), object(8)\n",
      "memory usage: 2.5+ MB\n"
     ]
    }
   ],
   "source": [
    "# combine registered and unregistered users df\n",
    "users_clean1 = pd.concat([users_raw_unreg,users_raw_reg])  \n",
    "users_clean1.info()"
   ]
  },
  {
   "cell_type": "code",
   "execution_count": 59,
   "id": "e4140856",
   "metadata": {},
   "outputs": [
    {
     "data": {
      "text/html": [
       "<div>\n",
       "<style scoped>\n",
       "    .dataframe tbody tr th:only-of-type {\n",
       "        vertical-align: middle;\n",
       "    }\n",
       "\n",
       "    .dataframe tbody tr th {\n",
       "        vertical-align: top;\n",
       "    }\n",
       "\n",
       "    .dataframe thead th {\n",
       "        text-align: right;\n",
       "    }\n",
       "</style>\n",
       "<table border=\"1\" class=\"dataframe\">\n",
       "  <thead>\n",
       "    <tr style=\"text-align: right;\">\n",
       "      <th></th>\n",
       "      <th>cookie_id</th>\n",
       "      <th>session_id</th>\n",
       "      <th>user_id</th>\n",
       "      <th>geography</th>\n",
       "      <th>email</th>\n",
       "      <th>session_date</th>\n",
       "      <th>channel</th>\n",
       "      <th>landing_page_type</th>\n",
       "      <th>final_page_type</th>\n",
       "    </tr>\n",
       "  </thead>\n",
       "  <tbody>\n",
       "    <tr>\n",
       "      <th>3</th>\n",
       "      <td>11155419</td>\n",
       "      <td>306657377</td>\n",
       "      <td>Visitor</td>\n",
       "      <td>Visitor</td>\n",
       "      <td>Visitor</td>\n",
       "      <td>2022-11-18</td>\n",
       "      <td>Paid Social</td>\n",
       "      <td>Homepage</td>\n",
       "      <td>Category Page</td>\n",
       "    </tr>\n",
       "    <tr>\n",
       "      <th>4</th>\n",
       "      <td>11162830</td>\n",
       "      <td>825717398</td>\n",
       "      <td>Visitor</td>\n",
       "      <td>Visitor</td>\n",
       "      <td>Visitor</td>\n",
       "      <td>2022-10-26</td>\n",
       "      <td>Paid Social</td>\n",
       "      <td>Homepage</td>\n",
       "      <td>Product Page</td>\n",
       "    </tr>\n",
       "    <tr>\n",
       "      <th>5</th>\n",
       "      <td>11233735</td>\n",
       "      <td>994753903</td>\n",
       "      <td>Visitor</td>\n",
       "      <td>Visitor</td>\n",
       "      <td>Visitor</td>\n",
       "      <td>2022-11-16</td>\n",
       "      <td>Paid Social</td>\n",
       "      <td>Homepage</td>\n",
       "      <td>Homepage</td>\n",
       "    </tr>\n",
       "    <tr>\n",
       "      <th>6</th>\n",
       "      <td>11250039</td>\n",
       "      <td>339981224</td>\n",
       "      <td>Visitor</td>\n",
       "      <td>Visitor</td>\n",
       "      <td>Visitor</td>\n",
       "      <td>2022-11-15</td>\n",
       "      <td>Paid Social</td>\n",
       "      <td>Category Page</td>\n",
       "      <td>Category Page</td>\n",
       "    </tr>\n",
       "    <tr>\n",
       "      <th>7</th>\n",
       "      <td>11254637</td>\n",
       "      <td>794926467</td>\n",
       "      <td>Visitor</td>\n",
       "      <td>Visitor</td>\n",
       "      <td>Visitor</td>\n",
       "      <td>2022-09-19</td>\n",
       "      <td>Paid Social</td>\n",
       "      <td>Homepage</td>\n",
       "      <td>Product Page</td>\n",
       "    </tr>\n",
       "  </tbody>\n",
       "</table>\n",
       "</div>"
      ],
      "text/plain": [
       "  cookie_id session_id  user_id geography    email session_date      channel  \\\n",
       "3  11155419  306657377  Visitor   Visitor  Visitor   2022-11-18  Paid Social   \n",
       "4  11162830  825717398  Visitor   Visitor  Visitor   2022-10-26  Paid Social   \n",
       "5  11233735  994753903  Visitor   Visitor  Visitor   2022-11-16  Paid Social   \n",
       "6  11250039  339981224  Visitor   Visitor  Visitor   2022-11-15  Paid Social   \n",
       "7  11254637  794926467  Visitor   Visitor  Visitor   2022-09-19  Paid Social   \n",
       "\n",
       "  landing_page_type final_page_type  \n",
       "3          Homepage   Category Page  \n",
       "4          Homepage    Product Page  \n",
       "5          Homepage        Homepage  \n",
       "6     Category Page   Category Page  \n",
       "7          Homepage    Product Page  "
      ]
     },
     "execution_count": 59,
     "metadata": {},
     "output_type": "execute_result"
    }
   ],
   "source": [
    "users_clean1.head()"
   ]
  },
  {
   "cell_type": "code",
   "execution_count": 60,
   "id": "3486dd15",
   "metadata": {},
   "outputs": [],
   "source": [
    "# create year, month and day field of session date\n",
    "users_clean1.loc[:, 'session_date_month'] = users_clean1['session_date'].dt.month"
   ]
  },
  {
   "cell_type": "code",
   "execution_count": 61,
   "id": "2ae72bd6",
   "metadata": {},
   "outputs": [
    {
     "name": "stdout",
     "output_type": "stream",
     "text": [
      "<class 'pandas.core.frame.DataFrame'>\n",
      "Index: 33013 entries, 3 to 32981\n",
      "Data columns (total 10 columns):\n",
      " #   Column              Non-Null Count  Dtype         \n",
      "---  ------              --------------  -----         \n",
      " 0   cookie_id           33013 non-null  object        \n",
      " 1   session_id          33013 non-null  object        \n",
      " 2   user_id             33013 non-null  object        \n",
      " 3   geography           33013 non-null  object        \n",
      " 4   email               33013 non-null  object        \n",
      " 5   session_date        33013 non-null  datetime64[ns]\n",
      " 6   channel             33013 non-null  object        \n",
      " 7   landing_page_type   33013 non-null  object        \n",
      " 8   final_page_type     33013 non-null  object        \n",
      " 9   session_date_month  33013 non-null  int32         \n",
      "dtypes: datetime64[ns](1), int32(1), object(8)\n",
      "memory usage: 2.6+ MB\n"
     ]
    }
   ],
   "source": [
    "# number of unique vistiors based on Cookies that not created an login\n",
    "users_clean1.info()"
   ]
  },
  {
   "cell_type": "code",
   "execution_count": 62,
   "id": "e306306f",
   "metadata": {},
   "outputs": [
    {
     "data": {
      "text/html": [
       "<div>\n",
       "<style scoped>\n",
       "    .dataframe tbody tr th:only-of-type {\n",
       "        vertical-align: middle;\n",
       "    }\n",
       "\n",
       "    .dataframe tbody tr th {\n",
       "        vertical-align: top;\n",
       "    }\n",
       "\n",
       "    .dataframe thead th {\n",
       "        text-align: right;\n",
       "    }\n",
       "</style>\n",
       "<table border=\"1\" class=\"dataframe\">\n",
       "  <thead>\n",
       "    <tr style=\"text-align: right;\">\n",
       "      <th></th>\n",
       "      <th>cookie_id</th>\n",
       "      <th>session_id</th>\n",
       "      <th>user_id</th>\n",
       "      <th>geography</th>\n",
       "      <th>email</th>\n",
       "      <th>session_date</th>\n",
       "      <th>channel</th>\n",
       "      <th>landing_page_type</th>\n",
       "      <th>final_page_type</th>\n",
       "      <th>session_date_month</th>\n",
       "    </tr>\n",
       "  </thead>\n",
       "  <tbody>\n",
       "    <tr>\n",
       "      <th>3</th>\n",
       "      <td>11155419</td>\n",
       "      <td>306657377</td>\n",
       "      <td>Visitor</td>\n",
       "      <td>Visitor</td>\n",
       "      <td>Visitor</td>\n",
       "      <td>2022-11-18</td>\n",
       "      <td>Paid Social</td>\n",
       "      <td>Homepage</td>\n",
       "      <td>Category Page</td>\n",
       "      <td>11</td>\n",
       "    </tr>\n",
       "    <tr>\n",
       "      <th>4</th>\n",
       "      <td>11162830</td>\n",
       "      <td>825717398</td>\n",
       "      <td>Visitor</td>\n",
       "      <td>Visitor</td>\n",
       "      <td>Visitor</td>\n",
       "      <td>2022-10-26</td>\n",
       "      <td>Paid Social</td>\n",
       "      <td>Homepage</td>\n",
       "      <td>Product Page</td>\n",
       "      <td>10</td>\n",
       "    </tr>\n",
       "    <tr>\n",
       "      <th>5</th>\n",
       "      <td>11233735</td>\n",
       "      <td>994753903</td>\n",
       "      <td>Visitor</td>\n",
       "      <td>Visitor</td>\n",
       "      <td>Visitor</td>\n",
       "      <td>2022-11-16</td>\n",
       "      <td>Paid Social</td>\n",
       "      <td>Homepage</td>\n",
       "      <td>Homepage</td>\n",
       "      <td>11</td>\n",
       "    </tr>\n",
       "    <tr>\n",
       "      <th>6</th>\n",
       "      <td>11250039</td>\n",
       "      <td>339981224</td>\n",
       "      <td>Visitor</td>\n",
       "      <td>Visitor</td>\n",
       "      <td>Visitor</td>\n",
       "      <td>2022-11-15</td>\n",
       "      <td>Paid Social</td>\n",
       "      <td>Category Page</td>\n",
       "      <td>Category Page</td>\n",
       "      <td>11</td>\n",
       "    </tr>\n",
       "    <tr>\n",
       "      <th>7</th>\n",
       "      <td>11254637</td>\n",
       "      <td>794926467</td>\n",
       "      <td>Visitor</td>\n",
       "      <td>Visitor</td>\n",
       "      <td>Visitor</td>\n",
       "      <td>2022-09-19</td>\n",
       "      <td>Paid Social</td>\n",
       "      <td>Homepage</td>\n",
       "      <td>Product Page</td>\n",
       "      <td>9</td>\n",
       "    </tr>\n",
       "  </tbody>\n",
       "</table>\n",
       "</div>"
      ],
      "text/plain": [
       "  cookie_id session_id  user_id geography    email session_date      channel  \\\n",
       "3  11155419  306657377  Visitor   Visitor  Visitor   2022-11-18  Paid Social   \n",
       "4  11162830  825717398  Visitor   Visitor  Visitor   2022-10-26  Paid Social   \n",
       "5  11233735  994753903  Visitor   Visitor  Visitor   2022-11-16  Paid Social   \n",
       "6  11250039  339981224  Visitor   Visitor  Visitor   2022-11-15  Paid Social   \n",
       "7  11254637  794926467  Visitor   Visitor  Visitor   2022-09-19  Paid Social   \n",
       "\n",
       "  landing_page_type final_page_type  session_date_month  \n",
       "3          Homepage   Category Page                  11  \n",
       "4          Homepage    Product Page                  10  \n",
       "5          Homepage        Homepage                  11  \n",
       "6     Category Page   Category Page                  11  \n",
       "7          Homepage    Product Page                   9  "
      ]
     },
     "execution_count": 62,
     "metadata": {},
     "output_type": "execute_result"
    }
   ],
   "source": [
    "users_clean1.head()"
   ]
  },
  {
   "cell_type": "code",
   "execution_count": 63,
   "id": "8210db82",
   "metadata": {},
   "outputs": [
    {
     "data": {
      "text/html": [
       "<div>\n",
       "<style scoped>\n",
       "    .dataframe tbody tr th:only-of-type {\n",
       "        vertical-align: middle;\n",
       "    }\n",
       "\n",
       "    .dataframe tbody tr th {\n",
       "        vertical-align: top;\n",
       "    }\n",
       "\n",
       "    .dataframe thead th {\n",
       "        text-align: right;\n",
       "    }\n",
       "</style>\n",
       "<table border=\"1\" class=\"dataframe\">\n",
       "  <thead>\n",
       "    <tr style=\"text-align: right;\">\n",
       "      <th></th>\n",
       "      <th>session_date_month</th>\n",
       "      <th>users</th>\n",
       "      <th>cookies</th>\n",
       "    </tr>\n",
       "  </thead>\n",
       "  <tbody>\n",
       "    <tr>\n",
       "      <th>0</th>\n",
       "      <td>7</td>\n",
       "      <td>1976</td>\n",
       "      <td>1994</td>\n",
       "    </tr>\n",
       "    <tr>\n",
       "      <th>1</th>\n",
       "      <td>8</td>\n",
       "      <td>2022</td>\n",
       "      <td>2034</td>\n",
       "    </tr>\n",
       "    <tr>\n",
       "      <th>2</th>\n",
       "      <td>9</td>\n",
       "      <td>1957</td>\n",
       "      <td>1969</td>\n",
       "    </tr>\n",
       "    <tr>\n",
       "      <th>3</th>\n",
       "      <td>10</td>\n",
       "      <td>1997</td>\n",
       "      <td>2013</td>\n",
       "    </tr>\n",
       "    <tr>\n",
       "      <th>4</th>\n",
       "      <td>11</td>\n",
       "      <td>1994</td>\n",
       "      <td>2006</td>\n",
       "    </tr>\n",
       "    <tr>\n",
       "      <th>5</th>\n",
       "      <td>12</td>\n",
       "      <td>1691</td>\n",
       "      <td>1697</td>\n",
       "    </tr>\n",
       "  </tbody>\n",
       "</table>\n",
       "</div>"
      ],
      "text/plain": [
       "   session_date_month  users  cookies\n",
       "0                   7   1976     1994\n",
       "1                   8   2022     2034\n",
       "2                   9   1957     1969\n",
       "3                  10   1997     2013\n",
       "4                  11   1994     2006\n",
       "5                  12   1691     1697"
      ]
     },
     "execution_count": 63,
     "metadata": {},
     "output_type": "execute_result"
    }
   ],
   "source": [
    "# see how many user ids and the cookie ids differ by month\n",
    "reg_users_cookie_avg = users_clean1[users_clean1.user_id != 'Visitor'].groupby('session_date_month').agg(users=('user_id', 'nunique')\n",
    "                                                                                  ,cookies=('cookie_id', 'nunique')\n",
    "                                                                                   ).reset_index()\n",
    "\n",
    "reg_users_cookie_avg"
   ]
  },
  {
   "cell_type": "code",
   "execution_count": 64,
   "id": "6035c110",
   "metadata": {},
   "outputs": [
    {
     "data": {
      "text/html": [
       "<div>\n",
       "<style scoped>\n",
       "    .dataframe tbody tr th:only-of-type {\n",
       "        vertical-align: middle;\n",
       "    }\n",
       "\n",
       "    .dataframe tbody tr th {\n",
       "        vertical-align: top;\n",
       "    }\n",
       "\n",
       "    .dataframe thead th {\n",
       "        text-align: right;\n",
       "    }\n",
       "</style>\n",
       "<table border=\"1\" class=\"dataframe\">\n",
       "  <thead>\n",
       "    <tr style=\"text-align: right;\">\n",
       "      <th></th>\n",
       "      <th>session_date_month</th>\n",
       "      <th>users</th>\n",
       "      <th>cookies</th>\n",
       "      <th>pct_user_to_cookie</th>\n",
       "    </tr>\n",
       "  </thead>\n",
       "  <tbody>\n",
       "    <tr>\n",
       "      <th>0</th>\n",
       "      <td>7</td>\n",
       "      <td>1976</td>\n",
       "      <td>1994</td>\n",
       "      <td>1.009109</td>\n",
       "    </tr>\n",
       "    <tr>\n",
       "      <th>1</th>\n",
       "      <td>8</td>\n",
       "      <td>2022</td>\n",
       "      <td>2034</td>\n",
       "      <td>1.005935</td>\n",
       "    </tr>\n",
       "    <tr>\n",
       "      <th>2</th>\n",
       "      <td>9</td>\n",
       "      <td>1957</td>\n",
       "      <td>1969</td>\n",
       "      <td>1.006132</td>\n",
       "    </tr>\n",
       "    <tr>\n",
       "      <th>3</th>\n",
       "      <td>10</td>\n",
       "      <td>1997</td>\n",
       "      <td>2013</td>\n",
       "      <td>1.008012</td>\n",
       "    </tr>\n",
       "    <tr>\n",
       "      <th>4</th>\n",
       "      <td>11</td>\n",
       "      <td>1994</td>\n",
       "      <td>2006</td>\n",
       "      <td>1.006018</td>\n",
       "    </tr>\n",
       "    <tr>\n",
       "      <th>5</th>\n",
       "      <td>12</td>\n",
       "      <td>1691</td>\n",
       "      <td>1697</td>\n",
       "      <td>1.003548</td>\n",
       "    </tr>\n",
       "  </tbody>\n",
       "</table>\n",
       "</div>"
      ],
      "text/plain": [
       "   session_date_month  users  cookies  pct_user_to_cookie\n",
       "0                   7   1976     1994            1.009109\n",
       "1                   8   2022     2034            1.005935\n",
       "2                   9   1957     1969            1.006132\n",
       "3                  10   1997     2013            1.008012\n",
       "4                  11   1994     2006            1.006018\n",
       "5                  12   1691     1697            1.003548"
      ]
     },
     "execution_count": 64,
     "metadata": {},
     "output_type": "execute_result"
    }
   ],
   "source": [
    "# ratio of cookies to a user id\n",
    "reg_users_cookie_avg.loc[:, 'pct_user_to_cookie'] = reg_users_cookie_avg.loc[:, 'cookies']/reg_users_cookie_avg.loc[:, 'users']\n",
    "reg_users_cookie_avg"
   ]
  },
  {
   "cell_type": "code",
   "execution_count": 65,
   "id": "83c61433",
   "metadata": {},
   "outputs": [
    {
     "data": {
      "text/plain": [
       "np.float64(1.0064590221342182)"
      ]
     },
     "execution_count": 65,
     "metadata": {},
     "output_type": "execute_result"
    }
   ],
   "source": [
    "# average cookie to user id diff is 0.6% in the entire data set\n",
    "reg_users_cookie_avg['pct_user_to_cookie'].mean()"
   ]
  },
  {
   "cell_type": "markdown",
   "id": "c52ba9c5",
   "metadata": {},
   "source": [
    "• Most users segemented by month only have 1 cookie to their user_id, the difference at most is 0.9% so we can conservatively assume the number of cookies in the un registered data set can serve as a proxy for unregistered user ids"
   ]
  },
  {
   "cell_type": "code",
   "execution_count": 66,
   "id": "b8964ee8",
   "metadata": {},
   "outputs": [
    {
     "data": {
      "text/plain": [
       "channel\n",
       "Organic        15309\n",
       "Paid Search     6696\n",
       "Paid Social     6507\n",
       "Email           4501\n",
       "Name: count, dtype: int64"
      ]
     },
     "execution_count": 66,
     "metadata": {},
     "output_type": "execute_result"
    }
   ],
   "source": [
    "\n",
    "# no missing channels should be utm channel is auto taggeed\n",
    "users_clean1.channel.value_counts(dropna=False)"
   ]
  },
  {
   "cell_type": "code",
   "execution_count": 67,
   "id": "53da51c8",
   "metadata": {},
   "outputs": [
    {
     "data": {
      "text/plain": [
       "Timestamp('2022-07-01 00:00:00')"
      ]
     },
     "execution_count": 67,
     "metadata": {},
     "output_type": "execute_result"
    }
   ],
   "source": [
    "# earliest session date\n",
    "users_clean1.session_date.min()"
   ]
  },
  {
   "cell_type": "code",
   "execution_count": 68,
   "id": "41115bda",
   "metadata": {},
   "outputs": [
    {
     "data": {
      "text/plain": [
       "Timestamp('2022-12-25 00:00:00')"
      ]
     },
     "execution_count": 68,
     "metadata": {},
     "output_type": "execute_result"
    }
   ],
   "source": [
    "# latest session date\n",
    "users_clean1.session_date.max()"
   ]
  },
  {
   "cell_type": "markdown",
   "id": "bea83c9f",
   "metadata": {},
   "source": [
    "• Date range for sessios is aprroximately 6 months start of july 2022-07-01 to christmas day 2022-12-25"
   ]
  },
  {
   "cell_type": "code",
   "execution_count": 69,
   "id": "d926a546",
   "metadata": {},
   "outputs": [
    {
     "data": {
      "text/plain": [
       "Timestamp('2022-12-25 00:00:00')"
      ]
     },
     "execution_count": 69,
     "metadata": {},
     "output_type": "execute_result"
    }
   ],
   "source": [
    "# last date entry of users\n",
    "users_clean1.session_date.max()"
   ]
  },
  {
   "cell_type": "code",
   "execution_count": 70,
   "id": "41be7094",
   "metadata": {},
   "outputs": [
    {
     "data": {
      "text/plain": [
       "landing_page_type\n",
       "Homepage         22153\n",
       "Category Page    10860\n",
       "Name: count, dtype: int64"
      ]
     },
     "execution_count": 70,
     "metadata": {},
     "output_type": "execute_result"
    }
   ],
   "source": [
    "users_clean1['landing_page_type'].value_counts()"
   ]
  },
  {
   "cell_type": "code",
   "execution_count": 71,
   "id": "8006c246",
   "metadata": {},
   "outputs": [
    {
     "data": {
      "text/plain": [
       "final_page_type\n",
       "Category Page                 12161\n",
       "Product Page                   6180\n",
       "Homepage                       6029\n",
       "Cart                           6016\n",
       "Purchase Confirmation Page     2627\n",
       "Name: count, dtype: int64"
      ]
     },
     "execution_count": 71,
     "metadata": {},
     "output_type": "execute_result"
    }
   ],
   "source": [
    "# for all visitors\n",
    "users_clean1['final_page_type'].value_counts()"
   ]
  },
  {
   "cell_type": "code",
   "execution_count": 72,
   "id": "479ca59b",
   "metadata": {},
   "outputs": [
    {
     "data": {
      "text/plain": [
       "channel      final_page_type\n",
       "Organic      Category Page      0.397338\n",
       "             Cart               0.203735\n",
       "             Product Page       0.201053\n",
       "             Homepage           0.197874\n",
       "Paid Search  Category Page      0.410023\n",
       "             Homepage           0.201819\n",
       "             Product Page       0.196207\n",
       "             Cart               0.191950\n",
       "Paid Social  Category Page      0.397059\n",
       "             Product Page       0.214052\n",
       "             Homepage           0.196351\n",
       "             Cart               0.192538\n",
       "Name: proportion, dtype: float64"
      ]
     },
     "execution_count": 72,
     "metadata": {},
     "output_type": "execute_result"
    }
   ],
   "source": [
    "# sensse check that only registered users can make purchases & recieve emails review by propotion\n",
    "users_clean1.loc[users_clean1.user_id == 'Visitor'].groupby('channel')['final_page_type'].value_counts(dropna= False, normalize = True)"
   ]
  },
  {
   "cell_type": "code",
   "execution_count": 73,
   "id": "53cbbcb7",
   "metadata": {},
   "outputs": [
    {
     "data": {
      "text/plain": [
       "channel      final_page_type           \n",
       "Email        Purchase Confirmation Page    0.285048\n",
       "             Category Page                 0.278827\n",
       "             Product Page                  0.150855\n",
       "             Cart                          0.143524\n",
       "             Homepage                      0.141746\n",
       "Organic      Category Page                 0.347386\n",
       "             Product Page                  0.180275\n",
       "             Homepage                      0.168256\n",
       "             Cart                          0.167303\n",
       "             Purchase Confirmation Page    0.136780\n",
       "Paid Search  Category Page                 0.306283\n",
       "             Purchase Confirmation Page    0.212696\n",
       "             Cart                          0.168194\n",
       "             Homepage                      0.156414\n",
       "             Product Page                  0.156414\n",
       "Paid Social  Category Page                 0.366843\n",
       "             Homepage                      0.181305\n",
       "             Product Page                  0.173898\n",
       "             Cart                          0.171429\n",
       "             Purchase Confirmation Page    0.106526\n",
       "Name: proportion, dtype: float64"
      ]
     },
     "execution_count": 73,
     "metadata": {},
     "output_type": "execute_result"
    }
   ],
   "source": [
    "# sensse check how many registered users made purchases review by propotion\n",
    "users_clean1.loc[users_clean1.user_id != 'Visitor'].groupby('channel')['final_page_type'].value_counts(dropna= False, normalize = True)"
   ]
  },
  {
   "cell_type": "code",
   "execution_count": 74,
   "id": "38e9b917",
   "metadata": {},
   "outputs": [
    {
     "data": {
      "text/plain": [
       "channel      landing_page_type\n",
       "Organic      Homepage             0.669316\n",
       "             Category Page        0.330684\n",
       "Paid Search  Homepage             0.659830\n",
       "             Category Page        0.340170\n",
       "Paid Social  Homepage             0.672658\n",
       "             Category Page        0.327342\n",
       "Name: proportion, dtype: float64"
      ]
     },
     "execution_count": 74,
     "metadata": {},
     "output_type": "execute_result"
    }
   ],
   "source": [
    "# sense check who what content unregistered users arrive on\n",
    "users_clean1.loc[users_clean1.user_id == 'Visitor'].groupby('channel')['landing_page_type'].value_counts(dropna= False, normalize = True)"
   ]
  },
  {
   "cell_type": "code",
   "execution_count": 75,
   "id": "8bf4af8a",
   "metadata": {},
   "outputs": [
    {
     "data": {
      "text/plain": [
       "channel      landing_page_type\n",
       "Email        Homepage             0.675850\n",
       "             Category Page        0.324150\n",
       "Organic      Homepage             0.676459\n",
       "             Category Page        0.323541\n",
       "Paid Search  Homepage             0.684555\n",
       "             Category Page        0.315445\n",
       "Paid Social  Homepage             0.670547\n",
       "             Category Page        0.329453\n",
       "Name: proportion, dtype: float64"
      ]
     },
     "execution_count": 75,
     "metadata": {},
     "output_type": "execute_result"
    }
   ],
   "source": [
    "# sense check who what content registered users arrive on\n",
    "users_clean1.loc[users_clean1.user_id != 'Visitor'].groupby('channel')['landing_page_type'].value_counts(dropna= False, normalize = True)"
   ]
  },
  {
   "cell_type": "code",
   "execution_count": 76,
   "id": "0a4bef51",
   "metadata": {},
   "outputs": [
    {
     "data": {
      "text/html": [
       "<div>\n",
       "<style scoped>\n",
       "    .dataframe tbody tr th:only-of-type {\n",
       "        vertical-align: middle;\n",
       "    }\n",
       "\n",
       "    .dataframe tbody tr th {\n",
       "        vertical-align: top;\n",
       "    }\n",
       "\n",
       "    .dataframe thead th {\n",
       "        text-align: right;\n",
       "    }\n",
       "</style>\n",
       "<table border=\"1\" class=\"dataframe\">\n",
       "  <thead>\n",
       "    <tr style=\"text-align: right;\">\n",
       "      <th></th>\n",
       "      <th>cookie_id</th>\n",
       "      <th>session_id</th>\n",
       "      <th>user_id</th>\n",
       "      <th>geography</th>\n",
       "      <th>email</th>\n",
       "      <th>session_date</th>\n",
       "      <th>channel</th>\n",
       "      <th>landing_page_type</th>\n",
       "      <th>final_page_type</th>\n",
       "    </tr>\n",
       "  </thead>\n",
       "  <tbody>\n",
       "    <tr>\n",
       "      <th>3</th>\n",
       "      <td>11155419</td>\n",
       "      <td>306657377</td>\n",
       "      <td>Visitor</td>\n",
       "      <td>Visitor</td>\n",
       "      <td>Visitor</td>\n",
       "      <td>2022-11-18</td>\n",
       "      <td>Paid Social</td>\n",
       "      <td>Homepage</td>\n",
       "      <td>Category Page</td>\n",
       "    </tr>\n",
       "    <tr>\n",
       "      <th>4</th>\n",
       "      <td>11162830</td>\n",
       "      <td>825717398</td>\n",
       "      <td>Visitor</td>\n",
       "      <td>Visitor</td>\n",
       "      <td>Visitor</td>\n",
       "      <td>2022-10-26</td>\n",
       "      <td>Paid Social</td>\n",
       "      <td>Homepage</td>\n",
       "      <td>Product Page</td>\n",
       "    </tr>\n",
       "    <tr>\n",
       "      <th>5</th>\n",
       "      <td>11233735</td>\n",
       "      <td>994753903</td>\n",
       "      <td>Visitor</td>\n",
       "      <td>Visitor</td>\n",
       "      <td>Visitor</td>\n",
       "      <td>2022-11-16</td>\n",
       "      <td>Paid Social</td>\n",
       "      <td>Homepage</td>\n",
       "      <td>Homepage</td>\n",
       "    </tr>\n",
       "    <tr>\n",
       "      <th>6</th>\n",
       "      <td>11250039</td>\n",
       "      <td>339981224</td>\n",
       "      <td>Visitor</td>\n",
       "      <td>Visitor</td>\n",
       "      <td>Visitor</td>\n",
       "      <td>2022-11-15</td>\n",
       "      <td>Paid Social</td>\n",
       "      <td>Category Page</td>\n",
       "      <td>Category Page</td>\n",
       "    </tr>\n",
       "    <tr>\n",
       "      <th>7</th>\n",
       "      <td>11254637</td>\n",
       "      <td>794926467</td>\n",
       "      <td>Visitor</td>\n",
       "      <td>Visitor</td>\n",
       "      <td>Visitor</td>\n",
       "      <td>2022-09-19</td>\n",
       "      <td>Paid Social</td>\n",
       "      <td>Homepage</td>\n",
       "      <td>Product Page</td>\n",
       "    </tr>\n",
       "  </tbody>\n",
       "</table>\n",
       "</div>"
      ],
      "text/plain": [
       "  cookie_id session_id  user_id geography    email session_date      channel  \\\n",
       "3  11155419  306657377  Visitor   Visitor  Visitor   2022-11-18  Paid Social   \n",
       "4  11162830  825717398  Visitor   Visitor  Visitor   2022-10-26  Paid Social   \n",
       "5  11233735  994753903  Visitor   Visitor  Visitor   2022-11-16  Paid Social   \n",
       "6  11250039  339981224  Visitor   Visitor  Visitor   2022-11-15  Paid Social   \n",
       "7  11254637  794926467  Visitor   Visitor  Visitor   2022-09-19  Paid Social   \n",
       "\n",
       "  landing_page_type final_page_type  \n",
       "3          Homepage   Category Page  \n",
       "4          Homepage    Product Page  \n",
       "5          Homepage        Homepage  \n",
       "6     Category Page   Category Page  \n",
       "7          Homepage    Product Page  "
      ]
     },
     "execution_count": 76,
     "metadata": {},
     "output_type": "execute_result"
    }
   ],
   "source": [
    "#drop session_date_month \n",
    "users_clean1.drop(['session_date_month'], axis = 1, inplace=True)\n",
    "users_clean1.head()"
   ]
  },
  {
   "cell_type": "markdown",
   "id": "8c9cba59",
   "metadata": {},
   "source": [
    "* cookie_ids are 8 long\n",
    "* session_id are 9 long\n",
    "* user_id are 10 long"
   ]
  },
  {
   "cell_type": "code",
   "execution_count": null,
   "id": "2f82a23a",
   "metadata": {},
   "outputs": [],
   "source": []
  },
  {
   "cell_type": "code",
   "execution_count": 79,
   "id": "00aac7b0",
   "metadata": {},
   "outputs": [
    {
     "data": {
      "text/plain": [
       "10"
      ]
     },
     "execution_count": 79,
     "metadata": {},
     "output_type": "execute_result"
    }
   ],
   "source": [
    "len(users_clean1[users_clean1.user_id != 'Visitor'].iloc[0,2])"
   ]
  },
  {
   "cell_type": "code",
   "execution_count": null,
   "id": "58ad338b",
   "metadata": {},
   "outputs": [
    {
     "data": {
      "text/plain": [
       "9"
      ]
     },
     "execution_count": 47,
     "metadata": {},
     "output_type": "execute_result"
    }
   ],
   "source": [
    "len(users_clean1.iloc[0,])"
   ]
  },
  {
   "cell_type": "markdown",
   "id": "81456a6a",
   "metadata": {},
   "source": [
    "• As suspected only registered users can make purchases and be sent EDMs\n",
    "• We want to create a metric that flags 1 for purchases and 0 for no purchase so we can sum for a session\n",
    "\n",
    "• Registered users vs non registered have same pslit about 1/3 land on home page and 2/3 category page"
   ]
  },
  {
   "cell_type": "markdown",
   "id": "49619d78",
   "metadata": {},
   "source": [
    "User Analytics Artifacts\n",
    "\n",
    "* Break out into 4 data sets:\n",
    "\n",
    "    1. Table_name: dates: unique dates and their\n",
    "        * date DATE PRIMARY KEY NOT NULL\n",
    "        * event VARCHAR(250)\n",
    "        * week_commencing_monday DATE NOT NULL\n",
    "        * day_of_week VARCHAR(250) NOT NULL\n",
    "\n",
    "    2. Table_name: registered_users table - segment df to only user_id is not visitor - stores user demographics\n",
    "        * user_id VARCHAR(10) PRIMARY KEY NOT NULL\n",
    "        * geography VARCHAR(250) NOT NULL\n",
    "        * email VARCHAR(250) NOT NULL\n",
    "\n",
    "    3. Table_name sessions data sets - drop the geography, email from data set\n",
    "        * session_id VARCHAR(8) PRIMARY KEY NOT NULL\n",
    "        * coookie_id VARCHAR(9) NOT NULL\n",
    "        * user_id VARCHAR(10) NOT NULL\n",
    "        * session_date DATE NOT NULL\n",
    "        * channel VARCHAR(250) NOT NULL\n",
    "        * landing_page_type VARCHAR(250) NOT NULL\n",
    "        * final_page_type VARCHAR(250) NOT NULL\n",
    "\n",
    "    4. Table_name marketing_site_analytics: aggreated site metrics by day for the channel and landing page \n",
    "        * date DATE NOT NULL\n",
    "        * channel VARCHAR(250) NOT NULL\n",
    "        * landing_page_type VARCHAR(250) NOT NULL\n",
    "        * final_page_type VARCHAR(250) NOT NULL\n",
    "        * web_id SERIAL PRIMARY KEY\n",
    "\n",
    "    \n",
    "\n",
    "\n"
   ]
  },
  {
   "cell_type": "markdown",
   "id": "d31a9976",
   "metadata": {},
   "source": []
  },
  {
   "cell_type": "code",
   "execution_count": 118,
   "id": "979b4eb1",
   "metadata": {},
   "outputs": [],
   "source": [
    "def make_flag(value,flag):\n",
    "    if value == flag:\n",
    "        return 1\n",
    "    else:\n",
    "        return 0"
   ]
  },
  {
   "cell_type": "code",
   "execution_count": 119,
   "id": "1d40686d",
   "metadata": {},
   "outputs": [
    {
     "data": {
      "text/html": [
       "<div>\n",
       "<style scoped>\n",
       "    .dataframe tbody tr th:only-of-type {\n",
       "        vertical-align: middle;\n",
       "    }\n",
       "\n",
       "    .dataframe tbody tr th {\n",
       "        vertical-align: top;\n",
       "    }\n",
       "\n",
       "    .dataframe thead th {\n",
       "        text-align: right;\n",
       "    }\n",
       "</style>\n",
       "<table border=\"1\" class=\"dataframe\">\n",
       "  <thead>\n",
       "    <tr style=\"text-align: right;\">\n",
       "      <th></th>\n",
       "      <th>cookie_id</th>\n",
       "      <th>session_id</th>\n",
       "      <th>user_id</th>\n",
       "      <th>geography</th>\n",
       "      <th>email</th>\n",
       "      <th>session_date</th>\n",
       "      <th>channel</th>\n",
       "      <th>landing_page_type</th>\n",
       "      <th>final_page_type</th>\n",
       "      <th>session_date_month</th>\n",
       "      <th>session_date_day</th>\n",
       "      <th>session_date_year</th>\n",
       "      <th>purchases</th>\n",
       "      <th>abandon_carts</th>\n",
       "    </tr>\n",
       "  </thead>\n",
       "  <tbody>\n",
       "    <tr>\n",
       "      <th>3</th>\n",
       "      <td>11155419</td>\n",
       "      <td>306657377</td>\n",
       "      <td>Visitor</td>\n",
       "      <td>Visitor</td>\n",
       "      <td>Visitor</td>\n",
       "      <td>2022-11-18</td>\n",
       "      <td>Paid Social</td>\n",
       "      <td>Homepage</td>\n",
       "      <td>Category Page</td>\n",
       "      <td>11</td>\n",
       "      <td>18</td>\n",
       "      <td>2022</td>\n",
       "      <td>0</td>\n",
       "      <td>0</td>\n",
       "    </tr>\n",
       "    <tr>\n",
       "      <th>4</th>\n",
       "      <td>11162830</td>\n",
       "      <td>825717398</td>\n",
       "      <td>Visitor</td>\n",
       "      <td>Visitor</td>\n",
       "      <td>Visitor</td>\n",
       "      <td>2022-10-26</td>\n",
       "      <td>Paid Social</td>\n",
       "      <td>Homepage</td>\n",
       "      <td>Product Page</td>\n",
       "      <td>10</td>\n",
       "      <td>26</td>\n",
       "      <td>2022</td>\n",
       "      <td>0</td>\n",
       "      <td>0</td>\n",
       "    </tr>\n",
       "    <tr>\n",
       "      <th>5</th>\n",
       "      <td>11233735</td>\n",
       "      <td>994753903</td>\n",
       "      <td>Visitor</td>\n",
       "      <td>Visitor</td>\n",
       "      <td>Visitor</td>\n",
       "      <td>2022-11-16</td>\n",
       "      <td>Paid Social</td>\n",
       "      <td>Homepage</td>\n",
       "      <td>Homepage</td>\n",
       "      <td>11</td>\n",
       "      <td>16</td>\n",
       "      <td>2022</td>\n",
       "      <td>0</td>\n",
       "      <td>0</td>\n",
       "    </tr>\n",
       "    <tr>\n",
       "      <th>6</th>\n",
       "      <td>11250039</td>\n",
       "      <td>339981224</td>\n",
       "      <td>Visitor</td>\n",
       "      <td>Visitor</td>\n",
       "      <td>Visitor</td>\n",
       "      <td>2022-11-15</td>\n",
       "      <td>Paid Social</td>\n",
       "      <td>Category Page</td>\n",
       "      <td>Category Page</td>\n",
       "      <td>11</td>\n",
       "      <td>15</td>\n",
       "      <td>2022</td>\n",
       "      <td>0</td>\n",
       "      <td>0</td>\n",
       "    </tr>\n",
       "    <tr>\n",
       "      <th>7</th>\n",
       "      <td>11254637</td>\n",
       "      <td>794926467</td>\n",
       "      <td>Visitor</td>\n",
       "      <td>Visitor</td>\n",
       "      <td>Visitor</td>\n",
       "      <td>2022-09-19</td>\n",
       "      <td>Paid Social</td>\n",
       "      <td>Homepage</td>\n",
       "      <td>Product Page</td>\n",
       "      <td>9</td>\n",
       "      <td>19</td>\n",
       "      <td>2022</td>\n",
       "      <td>0</td>\n",
       "      <td>0</td>\n",
       "    </tr>\n",
       "  </tbody>\n",
       "</table>\n",
       "</div>"
      ],
      "text/plain": [
       "  cookie_id session_id  user_id geography    email session_date      channel  \\\n",
       "3  11155419  306657377  Visitor   Visitor  Visitor   2022-11-18  Paid Social   \n",
       "4  11162830  825717398  Visitor   Visitor  Visitor   2022-10-26  Paid Social   \n",
       "5  11233735  994753903  Visitor   Visitor  Visitor   2022-11-16  Paid Social   \n",
       "6  11250039  339981224  Visitor   Visitor  Visitor   2022-11-15  Paid Social   \n",
       "7  11254637  794926467  Visitor   Visitor  Visitor   2022-09-19  Paid Social   \n",
       "\n",
       "  landing_page_type final_page_type  session_date_month  session_date_day  \\\n",
       "3          Homepage   Category Page                  11                18   \n",
       "4          Homepage    Product Page                  10                26   \n",
       "5          Homepage        Homepage                  11                16   \n",
       "6     Category Page   Category Page                  11                15   \n",
       "7          Homepage    Product Page                   9                19   \n",
       "\n",
       "   session_date_year  purchases  abandon_carts  \n",
       "3               2022          0              0  \n",
       "4               2022          0              0  \n",
       "5               2022          0              0  \n",
       "6               2022          0              0  \n",
       "7               2022          0              0  "
      ]
     },
     "execution_count": 119,
     "metadata": {},
     "output_type": "execute_result"
    }
   ],
   "source": [
    "users_clean1.loc[:, 'purchases'] = users_clean1.loc[:, 'final_page_type'].apply(lambda x : make_flag(x, 'Purchase Confirmation Page') )\n",
    "users_clean1.loc[:, 'abandon_carts'] = users_clean1.loc[:, 'final_page_type'].apply(lambda x : make_flag(x, 'Cart') )\n",
    "users_clean1.head()"
   ]
  },
  {
   "cell_type": "code",
   "execution_count": 120,
   "id": "a5baad3e",
   "metadata": {},
   "outputs": [
    {
     "data": {
      "text/plain": [
       "final_page_type\n",
       "Category Page                 12161\n",
       "Product Page                   6180\n",
       "Homepage                       6029\n",
       "Cart                           6016\n",
       "Purchase Confirmation Page     2627\n",
       "Name: count, dtype: int64"
      ]
     },
     "execution_count": 120,
     "metadata": {},
     "output_type": "execute_result"
    }
   ],
   "source": [
    "users_clean1.final_page_type.value_counts()"
   ]
  },
  {
   "cell_type": "code",
   "execution_count": 121,
   "id": "9210a099",
   "metadata": {},
   "outputs": [
    {
     "data": {
      "text/plain": [
       "np.int64(6016)"
      ]
     },
     "execution_count": 121,
     "metadata": {},
     "output_type": "execute_result"
    }
   ],
   "source": [
    "#total abandon carts sense check\n",
    "users_clean1['abandon_carts'].sum()"
   ]
  },
  {
   "cell_type": "code",
   "execution_count": 122,
   "id": "bcfda8c4",
   "metadata": {},
   "outputs": [
    {
     "data": {
      "text/plain": [
       "np.int64(2627)"
      ]
     },
     "execution_count": 122,
     "metadata": {},
     "output_type": "execute_result"
    }
   ],
   "source": [
    "#total abandon carts sense check\n",
    "users_clean1['purchases'].sum()"
   ]
  },
  {
   "cell_type": "code",
   "execution_count": 123,
   "id": "2286e162",
   "metadata": {},
   "outputs": [
    {
     "data": {
      "text/plain": [
       "geography\n",
       "Visitor                 18907\n",
       "North America           10611\n",
       "Europe                   1426\n",
       "Middle East & Africa      726\n",
       "South America             693\n",
       "Asia & Pacific            650\n",
       "Name: count, dtype: int64"
      ]
     },
     "execution_count": 123,
     "metadata": {},
     "output_type": "execute_result"
    }
   ],
   "source": [
    "users_clean1.geography.value_counts()"
   ]
  },
  {
   "cell_type": "code",
   "execution_count": 124,
   "id": "4e17e33a",
   "metadata": {},
   "outputs": [
    {
     "name": "stdout",
     "output_type": "stream",
     "text": [
      "<class 'pandas.core.frame.DataFrame'>\n",
      "Index: 33013 entries, 3 to 32981\n",
      "Data columns (total 14 columns):\n",
      " #   Column              Non-Null Count  Dtype         \n",
      "---  ------              --------------  -----         \n",
      " 0   cookie_id           33013 non-null  object        \n",
      " 1   session_id          33013 non-null  object        \n",
      " 2   user_id             33013 non-null  object        \n",
      " 3   geography           33013 non-null  object        \n",
      " 4   email               33013 non-null  object        \n",
      " 5   session_date        33013 non-null  datetime64[ns]\n",
      " 6   channel             33013 non-null  object        \n",
      " 7   landing_page_type   33013 non-null  object        \n",
      " 8   final_page_type     33013 non-null  object        \n",
      " 9   session_date_month  33013 non-null  int32         \n",
      " 10  session_date_day    33013 non-null  int32         \n",
      " 11  session_date_year   33013 non-null  int32         \n",
      " 12  purchases           33013 non-null  int64         \n",
      " 13  abandon_carts       33013 non-null  int64         \n",
      "dtypes: datetime64[ns](1), int32(3), int64(2), object(8)\n",
      "memory usage: 3.4+ MB\n"
     ]
    }
   ],
   "source": [
    "users_clean1.info()"
   ]
  },
  {
   "cell_type": "code",
   "execution_count": null,
   "id": "58ddf0f8",
   "metadata": {},
   "outputs": [
    {
     "data": {
      "text/plain": [
       "Index(['cookie_id', 'session_id', 'user_id', 'geography', 'email',\n",
       "       'session_date', 'channel', 'landing_page_type', 'final_page_type',\n",
       "       'session_date_month', 'session_date_day', 'session_date_year',\n",
       "       'purchases', 'abandon_carts'],\n",
       "      dtype='object')"
      ]
     },
     "execution_count": 124,
     "metadata": {},
     "output_type": "execute_result"
    }
   ],
   "source": [
    "users_clean1.columns"
   ]
  },
  {
   "cell_type": "markdown",
   "id": "71e8afec",
   "metadata": {},
   "source": [
    "### Users raw data model\n",
    "\n",
    "• ingest the cleaned users web data into 2 seperate tables registered_users_raw, unregistered_users_raw both have session_id as primary key\n",
    "\n",
    "• 'cookie_id', 'session_id', 'user_id', 'geography', 'email', 'session_date', 'channel', 'landing_page_type', 'final_page_type' : VARCHAR(250)\n",
    "\n",
    "• 'session_date_month', 'session_date_day':  NUMERIC(2,0)\n",
    "\n",
    "• 'session_date_year' :  NUMERIC(4,0)\n",
    "\n",
    "• 'purchases', 'abandon_carts' : INT()"
   ]
  },
  {
   "cell_type": "code",
   "execution_count": null,
   "id": "0275a4c8",
   "metadata": {},
   "outputs": [],
   "source": [
    "def raw_data_to_db(df,table, engine=engine, schema = 'bosh_marketing', if_exists = 'replace'):\n",
    "    \"\"\"\"sends df to the table, schema, u\"\"\"\n",
    "    df.to_sql(table, con = engine, schema = schema, if_exists = if_exists)\n",
    "    print(f'Table {table} has been updated with to {schema} with {len(df)} rows')"
   ]
  },
  {
   "cell_type": "code",
   "execution_count": null,
   "id": "0b26401f",
   "metadata": {},
   "outputs": [
    {
     "name": "stdout",
     "output_type": "stream",
     "text": [
      "Table unregistered_users_raw has been updated with to bosh_marketing with 18907 rows\n"
     ]
    }
   ],
   "source": [
    "raw_data_to_db(df = users_clean1[users_clean1.user_id == 'Visitor'], table = 'unregistered_users_raw')"
   ]
  },
  {
   "cell_type": "code",
   "execution_count": null,
   "id": "4ca029bc",
   "metadata": {},
   "outputs": [
    {
     "name": "stdout",
     "output_type": "stream",
     "text": [
      "Table registered_users_raw has been updated with to bosh_marketing with 14106 rows\n"
     ]
    }
   ],
   "source": [
    "raw_data_to_db(df = users_clean1[users_clean1.user_id != 'Visitor'], table = 'registered_users_raw')"
   ]
  },
  {
   "cell_type": "code",
   "execution_count": null,
   "id": "11995197",
   "metadata": {},
   "outputs": [],
   "source": []
  },
  {
   "cell_type": "code",
   "execution_count": null,
   "id": "9c56e054",
   "metadata": {},
   "outputs": [
    {
     "name": "stdout",
     "output_type": "stream",
     "text": [
      "<class 'pandas.core.frame.DataFrame'>\n",
      "Index: 33013 entries, 3 to 32981\n",
      "Data columns (total 14 columns):\n",
      " #   Column              Non-Null Count  Dtype         \n",
      "---  ------              --------------  -----         \n",
      " 0   cookie_id           33013 non-null  object        \n",
      " 1   session_id          33013 non-null  object        \n",
      " 2   user_id             33013 non-null  object        \n",
      " 3   geography           33013 non-null  object        \n",
      " 4   email               33013 non-null  object        \n",
      " 5   session_date        33013 non-null  datetime64[ns]\n",
      " 6   channel             33013 non-null  object        \n",
      " 7   landing_page_type   33013 non-null  object        \n",
      " 8   final_page_type     33013 non-null  object        \n",
      " 9   session_date_month  33013 non-null  int32         \n",
      " 10  session_date_day    33013 non-null  int32         \n",
      " 11  session_date_year   33013 non-null  int32         \n",
      " 12  purchases           33013 non-null  int64         \n",
      " 13  abandon_carts       33013 non-null  int64         \n",
      "dtypes: datetime64[ns](1), int32(3), int64(2), object(8)\n",
      "memory usage: 3.4+ MB\n"
     ]
    }
   ],
   "source": [
    "users_clean1.info()"
   ]
  },
  {
   "cell_type": "markdown",
   "id": "4510281b",
   "metadata": {},
   "source": [
    "### Ecoystem marketing data model break down\n",
    "\n",
    "• As previously discussed above our final merged makreting ecoystem data model granulartiy will be:\n",
    "\n",
    "• dims: date, channel, landing_page_type (we can't split by plaform bc the there is other break down in the web data)\n",
    "\n",
    "SELECT session_date, channel, landing_page_type\n",
    "\n",
    "#### Metrics for final marketing ecosystem data model from web side\n",
    "\n",
    "• visits : COUNT(DISTNCT session_id)\n",
    "\n",
    "• unique_registered_user_visits = COUNT(DISTNCT CASE WHEN user_id != 'Visitor' THEN session_id END)\n",
    "\n",
    "• unique_unregistered_user_visits = COUNT(DISTNCT CASE WHEN user_id == 'Visitor' then session_id END )\n",
    "\n",
    "• unique_registered_users = COUNT(DISTNCT CASE WHEN user_id != 'Visitor' THEN user_id END)\n",
    "\n",
    "• unique_unregistered_users = COUNT(DISTNCT CASE WHEN user_id == 'Visitor' then cookie_id END )\n",
    "\n",
    "• unqiue_vistiors = COUNT(DISTNCT CASE WHEN user_id != 'Visitor' THEN user_id END) + COUNT(DISTNCT CASE WHEN user_id == 'Visitor' then cookie_id END)\n",
    "\n",
    "• site_purchases = SUM(purchases)\n",
    "\n",
    "• site_abandon_carts = SUM(abandon carts)\n",
    "\n",
    "• registered_users_site_abandon_carts = SUM(CASE WHEN user_id != 'Visitor' THEN abandon_cart END)\n",
    "\n",
    "• unregistered_users_site_abandon_carts SUM(CASE WHEN user_id == 'Visitor' THEN abandon_cart END)\n",
    "\n",
    "\n",
    "Group by 1,2,3"
   ]
  },
  {
   "cell_type": "markdown",
   "id": "b08655fe",
   "metadata": {},
   "source": [
    "• Marketing for analytics data will not be at the user or session level, usually at campaign level which this data set is misssing\n",
    "\n",
    "• To create "
   ]
  },
  {
   "cell_type": "markdown",
   "id": "025d4f74",
   "metadata": {},
   "source": [
    "def send to df"
   ]
  },
  {
   "cell_type": "markdown",
   "id": "40bc1210",
   "metadata": {},
   "source": []
  },
  {
   "cell_type": "code",
   "execution_count": null,
   "id": "448cd1b9",
   "metadata": {},
   "outputs": [],
   "source": [
    "def clean_col_names(df):\n",
    "    \"\"\"renames all cols in df to be lower and no spaces\"\"\"\n",
    "    df.columns = [i.lower().replace(' ', \"_\") for i in df.columns]\n",
    "    return df"
   ]
  },
  {
   "cell_type": "code",
   "execution_count": null,
   "id": "11e25cf2",
   "metadata": {},
   "outputs": [],
   "source": []
  },
  {
   "cell_type": "code",
   "execution_count": null,
   "id": "bd198267",
   "metadata": {},
   "outputs": [],
   "source": []
  },
  {
   "cell_type": "code",
   "execution_count": null,
   "id": "7582b9ad",
   "metadata": {},
   "outputs": [],
   "source": []
  },
  {
   "cell_type": "code",
   "execution_count": null,
   "id": "495115c1",
   "metadata": {},
   "outputs": [],
   "source": []
  }
 ],
 "metadata": {
  "kernelspec": {
   "display_name": "bosh_marketing",
   "language": "python",
   "name": "python3"
  },
  "language_info": {
   "codemirror_mode": {
    "name": "ipython",
    "version": 3
   },
   "file_extension": ".py",
   "mimetype": "text/x-python",
   "name": "python",
   "nbconvert_exporter": "python",
   "pygments_lexer": "ipython3",
   "version": "3.10.0"
  }
 },
 "nbformat": 4,
 "nbformat_minor": 5
}
